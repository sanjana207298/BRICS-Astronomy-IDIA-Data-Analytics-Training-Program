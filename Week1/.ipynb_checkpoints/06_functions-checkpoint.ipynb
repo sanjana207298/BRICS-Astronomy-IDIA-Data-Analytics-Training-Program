{
 "cells": [
  {
   "cell_type": "markdown",
   "metadata": {},
   "source": [
    "# Python Functions\n",
    "\n",
    "[![Open In Colab](https://colab.research.google.com/assets/colab-badge.svg)](https://colab.research.google.com/github/Danselem/brics_astro/blob/main/Week1/06_functions.ipynb)\n",
    "\n",
    "\n",
    "\n",
    "<div style=\"text-align: center;\">\n",
    "  <img src=\"https://www.astronomy.com/uploads/2023/02/Astronomyequations.jpg\" width=\"800\"/>\n",
    "</div>\n",
    "\n",
    "This notebook introduces the fundamental concept of functions in Python, with a focus on their application in astronomical problem-solving. \n",
    "\n",
    "Functions are essential for creating modular, reusable, and maintainable code. This notebook will equip you with the skills to define, utilize, and document functions effectively.\n",
    "\n",
    "**Learning Objectives:**\n",
    "\n",
    "*   Understand the purpose and benefits of using functions.\n",
    "*   Define functions using the `def` keyword.\n",
    "*   Pass arguments to functions and utilize default argument values.\n",
    "*   Return values from functions.\n",
    "*   Document functions using docstrings.\n",
    "*   Understand variable scope (local vs. global).\n",
    "\n",
    "**Prerequisites:**\n",
    "\n",
    "Basic familiarity with Python syntax (variables, data types). No advanced programming knowledge is assumed."
   ]
  },
  {
   "cell_type": "markdown",
   "metadata": {},
   "source": [
    "## Functions: Encapsulation and Reusability\n",
    "\n",
    "Consider the task of calculating the distance to a star using its parallax angle. \n",
    "\n",
    "$$\n",
    "d = \\frac{1}{p}\n",
    "$$\n",
    "\n",
    "\n",
    "where $d$ is the distance in parsecs and $p$ is the parallax in arcseconds.\n",
    "\n",
    "For more about astronomy parallax and distance, see the articles by Les Cumbres Observatory: [parallax](https://lco.global/spacebook/distance/parallax-and-distance-measurement/) and [distance](https://lco.global/spacebook/distance/units-distance-and-size-universe/#:~:text=Many%20astronomers%20prefer%20to%20use,an%20angle%20of%201%20arcsec)."
   ]
  },
  {
   "cell_type": "code",
   "execution_count": 1,
   "metadata": {},
   "outputs": [
    {
     "name": "stdout",
     "output_type": "stream",
     "text": [
      "Distance to Star 1: 4.22 light-years\n",
      "Distance to Star 2: 802.96 light-years\n"
     ]
    }
   ],
   "source": [
    "parallax_angle_star1 = 0.77233  # arcseconds\n",
    "distance_star1_parsecs = 1 / parallax_angle_star1\n",
    "distance_star1_lightyears = distance_star1_parsecs * 3.26\n",
    "print(f\"Distance to Star 1: {distance_star1_lightyears:.2f} light-years\")\n",
    "\n",
    "parallax_angle_star2 = 0.00406  # arcseconds\n",
    "distance_star2_parsecs = 1 / parallax_angle_star2\n",
    "distance_star2_lightyears = distance_star2_parsecs * 3.26\n",
    "print(f\"Distance to Star 2: {distance_star2_lightyears:.2f} light-years\")"
   ]
  },
  {
   "cell_type": "markdown",
   "metadata": {},
   "source": [
    "Repeating this code for numerous stars is inefficient. Functions provide a solution by encapsulating this calculation.\n",
    "\n",
    "## Benefits of Functions:\n",
    "*   Reusability: Avoid redundant code by packaging logic into reusable units.\n",
    "*   Modularity: Break down complex problems into smaller, manageable components.\n",
    "*   Readability: Improve code clarity by assigning meaningful names to code blocks.\n",
    "\n",
    "\n",
    "### Defining Functions with the `def` Keyword\n",
    "\n",
    "Functions are defined using the `def` keyword, followed by the function name, parentheses for arguments (if any), and a colon. The function's code block is indented.\n",
    "\n",
    "```python\n",
    "# def function_name(argument1, argument2, ...):\n",
    "#     # Function body (code to be executed)\n",
    "#     return value  # Optional: Return a result\n",
    "```\n",
    "\n",
    "*   `def`: Keyword for function definition.\n",
    "*   function_name: A descriptive name (e.g., calculate_distance).\n",
    "*   arguments: Input values the function accepts (optional).\n",
    "*   return: Specifies the value the function returns (optional; defaults to None)."
   ]
  },
  {
   "cell_type": "code",
   "execution_count": 2,
   "metadata": {},
   "outputs": [
    {
     "name": "stdout",
     "output_type": "stream",
     "text": [
      "Distance to Star 1: 4.22 light-years\n",
      "Distance to Star 2: 802.96 light-years\n"
     ]
    }
   ],
   "source": [
    "# Example 1: Calculating Stellar Distance (Function)\n",
    "\n",
    "def calculate_distance(parallax_angle_arcsec):\n",
    "    \"\"\"Calculates the distance to a star in light-years based on its parallax.\"\"\"\n",
    "    distance_parsecs = 1 / parallax_angle_arcsec\n",
    "    distance_lightyears = distance_parsecs * 3.26\n",
    "    return distance_lightyears\n",
    "\n",
    "star1_parallax = 0.77233\n",
    "star1_distance = calculate_distance(star1_parallax)\n",
    "print(f\"Distance to Star 1: {star1_distance:.2f} light-years\")\n",
    "\n",
    "star2_parallax = 0.00406\n",
    "star2_distance = calculate_distance(star2_parallax)\n",
    "print(f\"Distance to Star 2: {star2_distance:.2f} light-years\")\n",
    "\n",
    "# The function encapsulates the distance calculation, making the code more concise."
   ]
  },
  {
   "cell_type": "markdown",
   "metadata": {
    "vscode": {
     "languageId": "plaintext"
    }
   },
   "source": [
    "## Function Arguments (Inputs)\n",
    "\n",
    "Functions can accept arguments, providing them with data to operate on. Multiple arguments can be defined, each with a name.\n",
    "\n",
    "```python\n",
    "# def function_name(argument1, argument2, argument3):\n",
    "#     # Use argument1, argument2, and argument3 within the function\n",
    "#     pass\n",
    "```\n",
    "\n",
    "Default values can be assigned to arguments. If a caller omits a value for an argument with a default, the default value is used.\n",
    "\n",
    "```python\n",
    "# def function_name(argument1, argument2=default_value):\n",
    "#     # argument2 will use default_value if not provided by the caller\n",
    "#     pass\n",
    "```\n",
    "\n",
    "Below is an example for writing a function for gravitational force:\n",
    "\n",
    "$$\n",
    "F = G \\frac{m_1 m_2}{r^2}\n",
    "$$\n",
    "\n",
    "**Where:**\n",
    "\n",
    "- $F$ is the gravitational force (in newtons, N)  \n",
    "- $G$ is the gravitational constant (`6.674 × 10⁻¹¹ N·m²/kg²`)  \n",
    "- $m_1$ and $m_2$ are the masses of the two objects (in kilograms, kg)  \n",
    "- $r$ is the distance between the centers of the two masses (in meters, m)"
   ]
  },
  {
   "cell_type": "code",
   "execution_count": 4,
   "metadata": {},
   "outputs": [
    {
     "name": "stdout",
     "output_type": "stream",
     "text": [
      "Gravitational force between Earth and Moon: 1.98e+20 N\n"
     ]
    }
   ],
   "source": [
    "# Example 2: Calculating Gravitational Force\n",
    "\n",
    "def calculate_gravitational_force(mass1, mass2, distance):\n",
    "    \"\"\"Calculates the gravitational force between two objects.\n",
    "\n",
    "    Args:\n",
    "        mass1 (float): Mass of the first object (kg).\n",
    "        mass2 (float): Mass of the second object (kg).\n",
    "        distance (float): Distance between the objects (m).\n",
    "\n",
    "    Returns:\n",
    "        float: The gravitational force (N).\n",
    "    \"\"\"\n",
    "    G = 6.674e-11  # Gravitational constant (N m^2 / kg^2)\n",
    "    force = (G * mass1 * mass2) / (distance ** 2)\n",
    "    return force\n",
    "\n",
    "earth_mass = 5.972e24  # kg\n",
    "moon_mass = 7.348e22  # kg\n",
    "earth_moon_distance = 3.844e8  # m\n",
    "\n",
    "gravitational_force = calculate_gravitational_force(earth_mass, moon_mass, earth_moon_distance)\n",
    "print(f\"Gravitational force between Earth and Moon: {gravitational_force:.2e} N\")"
   ]
  },
  {
   "cell_type": "markdown",
   "metadata": {},
   "source": [
    "## Return Values (Outputs)\n",
    "\n",
    "A function can return a value using the `return` statement. The value can be of any data type. \n",
    "\n",
    "If no `return` statement is present, the function implicitly returns `None`.\n",
    "\n",
    "The example below is a demonstartion of stellar (star) spectral classification based on temperature. See this [article](http://hyperphysics.phy-astr.gsu.edu/hbase/Starlog/staspe.html) for more details."
   ]
  },
  {
   "cell_type": "code",
   "execution_count": 6,
   "metadata": {},
   "outputs": [
    {
     "name": "stdout",
     "output_type": "stream",
     "text": [
      "Star with temperature 25000 K: Spectral type B\n",
      "Star with temperature 4500 K: Spectral type K\n"
     ]
    }
   ],
   "source": [
    "# Example 3: Classifying Stars by Temperature\n",
    "\n",
    "def classify_star(temperature_kelvin):\n",
    "    \"\"\"Classifies a star based on its surface temperature (Kelvin).\n",
    "\n",
    "    Returns:\n",
    "        str: Spectral type (\"O\", \"B\", \"A\", \"F\", \"G\", \"K\", \"M\", or \"Unknown\").\n",
    "    \"\"\"\n",
    "    if temperature_kelvin >= 30000:\n",
    "        return \"O\"\n",
    "    elif 10000 <= temperature_kelvin < 30000:\n",
    "        return \"B\"\n",
    "    elif 7500 <= temperature_kelvin < 10000:\n",
    "        return \"A\"\n",
    "    elif 6000 <= temperature_kelvin < 7500:\n",
    "        return \"F\"\n",
    "    elif 5200 <= temperature_kelvin < 6000:\n",
    "        return \"G\"\n",
    "    elif 3700 <= temperature_kelvin < 5200:\n",
    "        return \"K\"\n",
    "    elif temperature_kelvin < 3700:\n",
    "        return \"M\"\n",
    "    else:\n",
    "        return \"Unknown\"\n",
    "\n",
    "star1_temperature = 25000\n",
    "star1_spectral_type = classify_star(star1_temperature)\n",
    "print(f\"Star with temperature {star1_temperature} K: Spectral type {star1_spectral_type}\")\n",
    "\n",
    "star2_temperature = 4500\n",
    "star2_spectral_type = classify_star(star2_temperature)\n",
    "print(f\"Star with temperature {star2_temperature} K: Spectral type {star2_spectral_type}\")"
   ]
  },
  {
   "cell_type": "markdown",
   "metadata": {},
   "source": [
    "## Docstrings: Function Documentation\n",
    "\n",
    "A docstring (documentation string) is a multi-line string used to document the purpose, arguments, and return value of a function. It's crucial for code maintainability. \n",
    "\n",
    "Docstrings are enclosed in triple quotes (`\"\"\"Docstring goes here\"\"\"`).\n",
    "\n",
    "To access docstrings, use the `help` function e.g. `help(function_name)` or `function_name.__doc__`."
   ]
  },
  {
   "cell_type": "code",
   "execution_count": 7,
   "metadata": {},
   "outputs": [
    {
     "name": "stdout",
     "output_type": "stream",
     "text": [
      "Help on function calculate_escape_velocity in module __main__:\n",
      "\n",
      "calculate_escape_velocity(mass, radius)\n",
      "    Calculates the escape velocity of a celestial body.\n",
      "    \n",
      "    Args:\n",
      "        mass (float): Mass of the celestial body (kg).\n",
      "        radius (float): Radius of the celestial body (m).\n",
      "    \n",
      "    Returns:\n",
      "        float: Escape velocity (m/s).\n",
      "\n",
      "Calculates the escape velocity of a celestial body.\n",
      "\n",
      "    Args:\n",
      "        mass (float): Mass of the celestial body (kg).\n",
      "        radius (float): Radius of the celestial body (m).\n",
      "\n",
      "    Returns:\n",
      "        float: Escape velocity (m/s).\n",
      "    \n"
     ]
    }
   ],
   "source": [
    "# Example 4: Function with Docstring\n",
    "\n",
    "def calculate_escape_velocity(mass, radius):\n",
    "    \"\"\"Calculates the escape velocity of a celestial body.\n",
    "\n",
    "    Args:\n",
    "        mass (float): Mass of the celestial body (kg).\n",
    "        radius (float): Radius of the celestial body (m).\n",
    "\n",
    "    Returns:\n",
    "        float: Escape velocity (m/s).\n",
    "    \"\"\"\n",
    "    G = 6.67430e-11  # Gravitational constant\n",
    "    escape_velocity = (2 * G * mass / radius)**0.5\n",
    "    return escape_velocity\n",
    "\n",
    "help(calculate_escape_velocity)  # Display the docstring\n",
    "print(calculate_escape_velocity.__doc__) #alternative way to access the docstring"
   ]
  },
  {
   "cell_type": "markdown",
   "metadata": {},
   "source": [
    "## Scope: Variable Visibility\n",
    "\n",
    "Scope determines where a variable can be accessed. Variables defined inside a function have *local scope* (accessible only within the function). \n",
    "\n",
    "Variables defined outside functions have *global scope* (accessible everywhere).\n",
    "\n",
    "It is advisable to minimize global variable usage for better code organization and to avoid potential conflicts."
   ]
  },
  {
   "cell_type": "code",
   "execution_count": 8,
   "metadata": {},
   "outputs": [
    {
     "name": "stdout",
     "output_type": "stream",
     "text": [
      "Inside the function:\n",
      "Accessible Globally\n",
      "Accessible Locally\n",
      "Outside the function:\n",
      "Accessible Globally\n"
     ]
    }
   ],
   "source": [
    "# Example 5: Variable Scope\n",
    "\n",
    "global_variable = \"Accessible Globally\"\n",
    "\n",
    "def my_function():\n",
    "    local_variable = \"Accessible Locally\"\n",
    "    print(\"Inside the function:\")\n",
    "    print(global_variable)  # Accessing global is allowed\n",
    "    print(local_variable)\n",
    "\n",
    "my_function()\n",
    "\n",
    "print(\"Outside the function:\")\n",
    "print(global_variable)  # Accessing global is allowed\n",
    "# print(local_variable)  # Error: local_variable is not defined outside my_function"
   ]
  },
  {
   "cell_type": "markdown",
   "metadata": {},
   "source": [
    "## Advanced Examples: Applying Functions in Astronomy\n",
    "\n",
    "These examples demonstrate the use of functions in more complex astronomical calculations."
   ]
  },
  {
   "cell_type": "code",
   "execution_count": 9,
   "metadata": {},
   "outputs": [
    {
     "name": "stdout",
     "output_type": "stream",
     "text": [
      "Blackbody radiance at 500.0 nm and 5778 K: 2.64e+13 W/m^2/sr/m\n"
     ]
    }
   ],
   "source": [
    "# Example 6: Blackbody Radiation Calculation\n",
    "\n",
    "from math import exp, pi\n",
    "\n",
    "def calculate_blackbody_radiation(temperature, wavelength):\n",
    "    \"\"\"Calculates blackbody spectral radiance at a given temperature and wavelength.\n",
    "\n",
    "    Args:\n",
    "        temperature (float): Temperature (Kelvin).\n",
    "        wavelength (float): Wavelength (meters).\n",
    "\n",
    "    Returns:\n",
    "        float: Blackbody spectral radiance (W / m^2 / sr / m).\n",
    "    \"\"\"\n",
    "    c = 2.998e8   # Speed of light (m/s)\n",
    "    h = 6.626e-34  # Planck's constant (J s)\n",
    "    k = 1.381e-23  # Boltzmann constant (J/K)\n",
    "\n",
    "    intensity = (2 * h * c**2 / wavelength**5) / (exp((h * c) / (wavelength * k * temperature)) - 1)\n",
    "    return intensity\n",
    "\n",
    "# Example usage:\n",
    "temperature = 5778  # Sun's surface temperature (K)\n",
    "wavelength = 500e-9  # Wavelength of green light (m)\n",
    "radiance = calculate_blackbody_radiation(temperature, wavelength)\n",
    "print(f\"Blackbody radiance at {wavelength*1e9:.1f} nm and {temperature} K: {radiance:.2e} W/m^2/sr/m\")"
   ]
  },
  {
   "cell_type": "code",
   "execution_count": 10,
   "metadata": {},
   "outputs": [
    {
     "name": "stdout",
     "output_type": "stream",
     "text": [
      "1.57 radians is equal to 90.00 degrees\n"
     ]
    }
   ],
   "source": [
    "# Example 7: Radians to Degrees Conversion\n",
    "\n",
    "def radians_to_degrees(radians):\n",
    "    \"\"\"Converts an angle from radians to degrees.\n",
    "\n",
    "    Args:\n",
    "        radians (float): Angle in radians.\n",
    "\n",
    "    Returns:\n",
    "        float: Angle in degrees.\n",
    "    \"\"\"\n",
    "    degrees = radians * 180 / pi\n",
    "    return degrees\n",
    "\n",
    "# Example usage:\n",
    "angle_radians = pi / 2  # 90 degrees\n",
    "angle_degrees = radians_to_degrees(angle_radians)\n",
    "print(f\"{angle_radians:.2f} radians is equal to {angle_degrees:.2f} degrees\")"
   ]
  },
  {
   "cell_type": "markdown",
   "metadata": {},
   "source": [
    "## Exercises\n",
    "\n",
    "Apply your knowledge of functions to solve these problems:\n",
    "\n",
    "1.  Magnitude Difference: Create a function to calculate the magnitude difference between two stars (magnitude1 - magnitude2).\n",
    "\n",
    "2.  Distance Modulus: Create a function to calculate the distance modulus (apparent magnitude - absolute magnitude).\n",
    "\n",
    "3.  Wien's Law: Create a function to calculate the peak wavelength of blackbody radiation using Wien's Law (peak wavelength = Wien's constant / temperature). Wien's constant ≈ 2.898e-3 m·K.\n",
    "\n",
    "4.  Sphere Area: Create a function to calculate the surface area of a sphere given its radius.\n",
    "\n",
    "5.  Leap Year: Create a function that determines whether a given year is a leap year."
   ]
  },
  {
   "cell_type": "markdown",
   "metadata": {},
   "source": [
    "## Summary\n",
    "\n",
    "You have now learned to define, use, and document Python functions. These skills are crucial for writing well-structured and maintainable code in any programming context, and especially valuable in astronomical research and analysis. Continue practicing to solidify your understanding and explore more advanced function techniques."
   ]
  }
 ],
 "metadata": {
  "kernelspec": {
   "display_name": "Python 3 (ipykernel)",
   "language": "python",
   "name": "python3"
  },
  "language_info": {
   "codemirror_mode": {
    "name": "ipython",
    "version": 3
   },
   "file_extension": ".py",
   "mimetype": "text/x-python",
   "name": "python",
   "nbconvert_exporter": "python",
   "pygments_lexer": "ipython3",
   "version": "3.10.11"
  }
 },
 "nbformat": 4,
 "nbformat_minor": 4
}

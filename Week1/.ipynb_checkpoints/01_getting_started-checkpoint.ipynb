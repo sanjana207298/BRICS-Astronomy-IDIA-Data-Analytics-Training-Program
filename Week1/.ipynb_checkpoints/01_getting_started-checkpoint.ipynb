{
 "cells": [
  {
   "cell_type": "markdown",
   "id": "0",
   "metadata": {},
   "source": [
    "# Get Started\n",
    "\n",
    "[![Open In Colab](https://colab.research.google.com/assets/colab-badge.svg)](https://colab.research.google.com/github/Danselem/brics_astro/blob/main/Week1/01_get_started.ipynb)\n",
    "\n",
    "There are multiple ways to run Jupyter notebooks. You can either run them locally on your machine or use an online service like Google Colab."
   ]
  },
  {
   "cell_type": "markdown",
   "id": "2",
   "metadata": {},
   "source": [
    "## Using Google Colab\n",
    "\n",
    "Colab is a free online jupyter notebook service offered by Google that allows users to run Jupyter notebooks in Google Cloud. The service is available at [colab.research.google.com](https://colab.research.google.com/).\n",
    "\n",
    "To run a Jupyter notebook from this course in Google Colab, click the `Open in Colab` button at the top of the notebook to redirect you to a new web page where you can access the notebook in Google Colab.\n",
    "\n",
    "\n",
    "![Colab Workflow](https://raw.githubusercontent.com/Danselem/brics_astro/main/assets/colab.png)\n",
    "\n",
    "\n",
    "\n",
    "## Running Locally\n",
    "\n",
    "To run Jupyter notebooks locally on your machine, you can follow the installations povided in Section 4 of the precourse materials:  [https://github.com/Danselem/brics_astro/blob/main/precourse.md](https://github.com/Danselem/brics_astro/blob/main/precourse.md) to open JupyterLab in your default web browser, where you can navigate to the notebook you want to run.\n",
    "\n",
    "![image](https://raw.githubusercontent.com/Danselem/brics_astro/main/assets/intro.png)"
   ]
  },
  {
   "cell_type": "markdown",
   "id": "17bab096-fb7b-43bb-bb0f-323f579fa9fe",
   "metadata": {},
   "source": [
    "## How to run codes in Jupyter Notebook\n",
    "\n",
    "Jupyter Notebooks provide cells where codes can be written. \n",
    "\n",
    "To run a code, click on the cell to select it, then press `SHIFT+ENTER` or press the play button above.\n",
    "\n",
    "Run the next cell by selecting it and pressing `SHIFT+ENTER`."
   ]
  },
  {
   "cell_type": "code",
   "execution_count": 2,
   "id": "1",
   "metadata": {},
   "outputs": [
    {
     "name": "stdout",
     "output_type": "stream",
     "text": [
      "Hello, Python!\n"
     ]
    }
   ],
   "source": [
    "print(\"Hello, Python!\")"
   ]
  },
  {
   "cell_type": "markdown",
   "id": "346d3ee2",
   "metadata": {},
   "source": [
    "For more on how to run Jupyter notebooks, check out <https://www.codecademy.com/article/how-to-use-jupyter-notebooks>."
   ]
  },
  {
   "cell_type": "code",
   "execution_count": null,
   "id": "ea78e72a-9914-4275-90a4-469718e1dd13",
   "metadata": {},
   "outputs": [],
   "source": []
  }
 ],
 "metadata": {
  "kernelspec": {
   "display_name": "Python 3 (ipykernel)",
   "language": "python",
   "name": "python3"
  },
  "language_info": {
   "codemirror_mode": {
    "name": "ipython",
    "version": 3
   },
   "file_extension": ".py",
   "mimetype": "text/x-python",
   "name": "python",
   "nbconvert_exporter": "python",
   "pygments_lexer": "ipython3",
   "version": "3.10.11"
  }
 },
 "nbformat": 4,
 "nbformat_minor": 5
}

{
 "cells": [
  {
   "cell_type": "markdown",
   "id": "0",
   "metadata": {},
   "source": [
    "# String Operations in Python for Astronomy\n",
    "\n",
    "[![Open In Colab](https://colab.research.google.com/assets/colab-badge.svg)](https://colab.research.google.com/github/Danselem/brics_astro/blob/main/Week1/04_string_operations.ipynb)\n",
    "\n",
    "\n",
    "\n",
    "<div style=\"text-align: center;\">\n",
    "  <img src=\"https://www.astroasheville.org/wp-content/uploads/2019/06/25BrightestStars_Jittasaiyapan_960.jpg\" width=\"800\"/>\n",
    "</div>\n",
    "\n",
    "## Overview  \n",
    "\n",
    "This lecture explores string operations in Python, emphasizing their role in astronomy. Strings are essential for handling textual data, including celestial object names, astronomical coordinates, catalog entries, and metadata from surveys. A strong grasp of string manipulation enables efficient data cleaning, formatting, and parsing—key skills for processing and analyzing astronomical datasets.  \n",
    "\n",
    "## Learning Objectives  \n",
    "\n",
    "By the end of this lecture, you will be able to:  \n",
    "\n",
    "- Work with strings in Python, including creating, combining, and repeating them.  \n",
    "- Use built-in string methods like `lower()`, `upper()`, `strip()`, `replace()`, and `split()` to process astronomical data.  \n",
    "- Format strings effectively using the `format()` method and f-strings to embed variable data.  \n",
    "- Extract specific details from strings, such as celestial coordinates, object classifications, or survey metadata.  \n",
    "- Apply string operations to real-world astronomical tasks, improving your ability to manage and analyze observational data."
   ]
  },
  {
   "cell_type": "markdown",
   "id": "1",
   "metadata": {},
   "source": [
    "## 1. Creating and Manipulating Strings\n",
    "Strings can be created using single, double, or triple quotes."
   ]
  },
  {
   "cell_type": "code",
   "execution_count": 1,
   "id": "2",
   "metadata": {},
   "outputs": [
    {
     "name": "stdout",
     "output_type": "stream",
     "text": [
      "Betelgeuse HD 39801\n"
     ]
    }
   ],
   "source": [
    "object_name = \"Betelgeuse\"\n",
    "catalog_entry = 'HD 39801'\n",
    "multiline_string = \"\"\"Betelgeuse is a red supergiant star in the Orion constellation.\"\"\"\n",
    "print(object_name, catalog_entry)"
   ]
  },
  {
   "cell_type": "markdown",
   "id": "3",
   "metadata": {},
   "source": [
    "## 2. Concatenating Strings\n",
    "We often need to combine multiple pieces of textual information. The character `+` is used for `string` concatenation.\n"
   ]
  },
  {
   "cell_type": "code",
   "execution_count": 2,
   "id": "4",
   "metadata": {},
   "outputs": [
    {
     "name": "stdout",
     "output_type": "stream",
     "text": [
      "The constellation Orion is home to the star Betelgeuse and other bright stars.\n"
     ]
    }
   ],
   "source": [
    "constellation = \"Orion\"\n",
    "description = \"is home to the star \" + object_name + \" and other bright stars.\"\n",
    "print(\"The constellation \" + constellation + \" \" + description)"
   ]
  },
  {
   "cell_type": "markdown",
   "id": "5",
   "metadata": {},
   "source": [
    "## Using f-strings for better readability"
   ]
  },
  {
   "cell_type": "code",
   "execution_count": 3,
   "id": "6",
   "metadata": {},
   "outputs": [
    {
     "name": "stdout",
     "output_type": "stream",
     "text": [
      "The star Betelgeuse is part of the Orion constellation.\n"
     ]
    }
   ],
   "source": [
    "concatenated_string = f\"The star {object_name} is part of the {constellation} constellation.\"\n",
    "print(concatenated_string)"
   ]
  },
  {
   "cell_type": "markdown",
   "id": "62b2aa56",
   "metadata": {},
   "source": [
    "## 3. Repeating Strings Using `*` Operator\n",
    "The `*` operator allows repetition of strings"
   ]
  },
  {
   "cell_type": "code",
   "execution_count": 4,
   "id": "6635027e",
   "metadata": {},
   "outputs": [
    {
     "name": "stdout",
     "output_type": "stream",
     "text": [
      "------------------------------\n",
      "Important Astronomical Event! Important Astronomical Event! Important Astronomical Event!\n"
     ]
    }
   ],
   "source": [
    "separator = \"-\" * 30\n",
    "print(separator)\n",
    "message = (\"Important Astronomical Event! \" * 3).strip()\n",
    "print(message)"
   ]
  },
  {
   "cell_type": "markdown",
   "id": "96d05709",
   "metadata": {},
   "source": [
    "## 4. String Methods in Astronomy\n",
    "Let's explore some useful string methods.\n"
   ]
  },
  {
   "cell_type": "code",
   "execution_count": 5,
   "id": "d720fcb8",
   "metadata": {},
   "outputs": [
    {
     "name": "stdout",
     "output_type": "stream",
     "text": [
      "Sirius A\n",
      "Sirius A   \n",
      "   Sirius A\n"
     ]
    }
   ],
   "source": [
    "star_name = \"   Sirius A   \"  # A common stellar designation with extra spaces\n",
    "print(star_name.strip())  # Removes extra spaces\n",
    "print(star_name.lstrip())  # Removes leading spaces\n",
    "print(star_name.rstrip())  # Removes trailing spaces"
   ]
  },
  {
   "cell_type": "code",
   "execution_count": 6,
   "id": "713dac83",
   "metadata": {},
   "outputs": [
    {
     "name": "stdout",
     "output_type": "stream",
     "text": [
      "main sequence\n",
      "MAIN SEQUENCE\n"
     ]
    }
   ],
   "source": [
    "star_type = \"Main Sequence\"\n",
    "print(star_type.lower())  # Converts to lowercase\n",
    "print(star_type.upper())  # Converts to uppercase"
   ]
  },
  {
   "cell_type": "code",
   "execution_count": 7,
   "id": "58951f4d",
   "metadata": {},
   "outputs": [
    {
     "name": "stdout",
     "output_type": "stream",
     "text": [
      "Vega is a main sequence star.\n"
     ]
    }
   ],
   "source": [
    "# Replacing parts of a string\n",
    "star_description = \"Vega is a white dwarf.\"\n",
    "corrected_description = star_description.replace(\"white dwarf\", \"main sequence star\")\n",
    "print(corrected_description)"
   ]
  },
  {
   "cell_type": "markdown",
   "id": "32cde173",
   "metadata": {},
   "source": [
    "## 5. Finding the Position of a Substring\n",
    "This can help locate specific information in star descriptions."
   ]
  },
  {
   "cell_type": "code",
   "execution_count": 8,
   "id": "4a316c5d",
   "metadata": {},
   "outputs": [
    {
     "name": "stdout",
     "output_type": "stream",
     "text": [
      "Position of 'spiral' in the description: 25\n"
     ]
    }
   ],
   "source": [
    "galaxy_description = \"Andromeda is the nearest spiral galaxy.\"\n",
    "position = galaxy_description.find(\"spiral\")\n",
    "print(\"Position of 'spiral' in the description:\", position)"
   ]
  },
  {
   "cell_type": "markdown",
   "id": "736ba453",
   "metadata": {},
   "source": [
    "## 6. Counting Occurrences of a Word in a String\n",
    "This is useful for analyzing astronomical text data."
   ]
  },
  {
   "cell_type": "code",
   "execution_count": 9,
   "id": "d1be1c56",
   "metadata": {},
   "outputs": [
    {
     "name": "stdout",
     "output_type": "stream",
     "text": [
      "Occurrences of 'spiral': 2\n"
     ]
    }
   ],
   "source": [
    "text_data = \"The Milky Way is a spiral galaxy. The Andromeda Galaxy is also a spiral galaxy.\"\n",
    "count_spiral = text_data.count(\"spiral\")\n",
    "print(\"Occurrences of 'spiral':\", count_spiral)"
   ]
  },
  {
   "cell_type": "markdown",
   "id": "35fe9f4e",
   "metadata": {},
   "source": [
    "## 7. Formatting Strings\n",
    "In astronomy, we often need to format strings for readability."
   ]
  },
  {
   "cell_type": "code",
   "execution_count": 10,
   "id": "6fed7253",
   "metadata": {},
   "outputs": [
    {
     "name": "stdout",
     "output_type": "stream",
     "text": [
      "Sirius has RA 06h 45m 08.9s and Dec -16.7161 degrees.\n"
     ]
    }
   ],
   "source": [
    "declination = -16.7161\n",
    "right_ascension = \"06h 45m 08.9s\"\n",
    "formatted_string = f\"Sirius has RA {right_ascension} and Dec {declination} degrees.\"\n",
    "print(formatted_string)"
   ]
  },
  {
   "cell_type": "markdown",
   "id": "bdeee6b0",
   "metadata": {},
   "source": [
    "## 8. Splitting and Extracting Data from Strings\n",
    "We often need to extract specific information from catalog entries.\n"
   ]
  },
  {
   "cell_type": "code",
   "execution_count": 11,
   "id": "470d39d7",
   "metadata": {},
   "outputs": [
    {
     "name": "stdout",
     "output_type": "stream",
     "text": [
      "Object ID: NGC 224\n",
      "Object Name: Andromeda Galaxy\n"
     ]
    }
   ],
   "source": [
    "catalog_entry = \"NGC 224 - Andromeda Galaxy\"\n",
    "parts = catalog_entry.split(\" - \")  # Splitting by the separator \" - \"\n",
    "print(\"Object ID:\", parts[0])  # Extracts \"NGC 224\"\n",
    "print(\"Object Name:\", parts[1])  # Extracts \"Andromeda Galaxy\""
   ]
  },
  {
   "cell_type": "markdown",
   "id": "70b5fae7",
   "metadata": {},
   "source": [
    "## 9. Joining Strings Using `join()`\n",
    "We can join a list of strings into a single string using a delimiter."
   ]
  },
  {
   "cell_type": "code",
   "execution_count": 12,
   "id": "2c405b9a",
   "metadata": {},
   "outputs": [
    {
     "name": "stdout",
     "output_type": "stream",
     "text": [
      "The Milky Way is a galaxy\n"
     ]
    }
   ],
   "source": [
    "word_list = [\"The\", \"Milky\", \"Way\", \"is\", \"a\", \"galaxy\"]\n",
    "joined_string = \" \".join(word_list)\n",
    "print(joined_string)"
   ]
  },
  {
   "cell_type": "markdown",
   "id": "f0fa565c",
   "metadata": {},
   "source": [
    "## 10. Parsing Coordinates from a String"
   ]
  },
  {
   "cell_type": "code",
   "execution_count": 13,
   "id": "9dfbee40",
   "metadata": {},
   "outputs": [
    {
     "name": "stdout",
     "output_type": "stream",
     "text": [
      "Right Ascension: 10h 56m 29s\n",
      "Declination: +07° 00' 52\" \n"
     ]
    }
   ],
   "source": [
    "coordinates = \"\"\"RA: 10h 56m 29s, Dec: +07° 00' 52\" \"\"\"  # Sample coordinates\n",
    "ra_dec_split = coordinates.split(\", \")\n",
    "ra = ra_dec_split[0].replace(\"RA: \", \"\")\n",
    "dec = ra_dec_split[1].replace(\"Dec: \", \"\")\n",
    "print(\"Right Ascension:\", ra)\n",
    "print(\"Declination:\", dec)"
   ]
  },
  {
   "cell_type": "markdown",
   "id": "4cc91747",
   "metadata": {},
   "source": [
    "## 11. Checking for Substrings\n",
    "Sometimes, we need to check if a string contains a specific keyword."
   ]
  },
  {
   "cell_type": "code",
   "execution_count": 14,
   "id": "d2f9afbb",
   "metadata": {},
   "outputs": [
    {
     "name": "stdout",
     "output_type": "stream",
     "text": [
      "This object is a spiral galaxy!\n"
     ]
    }
   ],
   "source": [
    "object_info = \"Messier 31 - Spiral Galaxy\"\n",
    "if \"Spiral Galaxy\" in object_info:\n",
    "    print(\"This object is a spiral galaxy!\")\n"
   ]
  },
  {
   "cell_type": "markdown",
   "id": "50154526",
   "metadata": {},
   "source": [
    "## 12. Using Strings in SQL Queries for Astronomical Data\n",
    "Suppose we have a database of celestial objects and need to generate SQL queries dynamically."
   ]
  },
  {
   "cell_type": "code",
   "execution_count": 15,
   "id": "4076c20f",
   "metadata": {},
   "outputs": [
    {
     "name": "stdout",
     "output_type": "stream",
     "text": [
      "Generated SQL Query: SELECT * FROM galaxies WHERE type = 'Spiral Galaxy';\n",
      "Search Query for a Specific Galaxy: SELECT * FROM galaxies WHERE name = 'Andromeda';\n"
     ]
    }
   ],
   "source": [
    "table_name = \"galaxies\"\n",
    "query = f\"SELECT * FROM {table_name} WHERE type = 'Spiral Galaxy';\"\n",
    "print(\"Generated SQL Query:\", query)\n",
    "\n",
    "object_name = \"Andromeda\"\n",
    "sql_condition = f\"SELECT * FROM {table_name} WHERE name = '{object_name}';\"\n",
    "print(\"Search Query for a Specific Galaxy:\", sql_condition)"
   ]
  },
  {
   "cell_type": "markdown",
   "id": "41f0c275",
   "metadata": {},
   "source": [
    "## Exercise\n",
    "1. Create a string containing the name and type of any celestial object.\n",
    "2. Convert the name to uppercase and print it.\n",
    "3. Extract and print the type of object from your string.\n",
    "4. Format a string that includes the object's name and a short description.\n",
    "5. Concatenate two strings to describe an astronomical feature.\n",
    "6. Extract right ascension and declination from a given coordinate string.\n",
    "7. Use the * operator to repeat a warning message about a cosmic event.\n",
    "8. Use join() to combine words into a complete sentence.\n",
    "9. Find the position of a specific word in an astronomical description.\n",
    "10. Count the occurrences of a word in a given string.\n",
    "11. Write a small SQL query as a string to search for an astronomical object in a database. Example:\n",
    "object_info = \"Vega - Main Sequence Star\"(Perform the above tasks on this or another example of your choice).\n",
    "\n",
    "Submit your responses as a Python script or Jupyter Notebook cell outputs."
   ]
  },
  {
   "cell_type": "code",
   "execution_count": null,
   "id": "28",
   "metadata": {},
   "outputs": [],
   "source": []
  },
  {
   "cell_type": "markdown",
   "id": "29",
   "metadata": {},
   "source": [
    "## Summary  \n",
    "\n",
    "String operations are essential in astronomy for handling and processing textual data related to celestial objects, coordinates, and astronomical catalogs. Whether formatting star names, extracting right ascension and declination, or generating SQL queries for astronomical databases, mastering string operations allows for efficient data manipulation and analysis. These skills are invaluable when working with observational data, automating research workflows, and ensuring clarity in astronomical documentation."
   ]
  }
 ],
 "metadata": {
  "kernelspec": {
   "display_name": "Python 3 (ipykernel)",
   "language": "python",
   "name": "python3"
  },
  "language_info": {
   "codemirror_mode": {
    "name": "ipython",
    "version": 3
   },
   "file_extension": ".py",
   "mimetype": "text/x-python",
   "name": "python",
   "nbconvert_exporter": "python",
   "pygments_lexer": "ipython3",
   "version": "3.10.11"
  }
 },
 "nbformat": 4,
 "nbformat_minor": 5
}

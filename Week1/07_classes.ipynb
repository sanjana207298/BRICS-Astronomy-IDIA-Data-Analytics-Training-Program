{
 "cells": [
  {
   "cell_type": "markdown",
   "metadata": {},
   "source": [
    "# Introduction to Python Classes\n",
    "\n",
    "[![Open In Colab](https://colab.research.google.com/assets/colab-badge.svg)](https://colab.research.google.com/github/Danselem/brics_astro/blob/main/Week1/07_classes.ipynb)\n",
    "\n",
    "\n",
    "\n",
    "<div style=\"text-align: center;\">\n",
    "  <img src=\"https://encrypted-tbn0.gstatic.com/images?q=tbn:ANd9GcRQggGzqmqi5Uy8zoD6SurGf4h6E-cKKamXJA&s\" width=\"800\"/>\n",
    "</div>\n",
    "\n",
    "This notebook introduces the fundamental concept of classes in Python. Classes are a powerful tool for organizing code and representing real-world objects and concepts in a structured and reusable way. \n",
    "\n",
    "This notebook assumes a basic understanding of Python syntax (variables, data types, functions). No prior experience with object-oriented programming (OOP) is necessary.\n",
    "\n",
    "**Learning Objectives:**\n",
    "\n",
    "*   Understand the basic concept of a class and an object.\n",
    "*   Define a class using the `class` keyword.\n",
    "*   Create objects (instances) of a class.\n",
    "*   Define attributes (data) within a class.\n",
    "*   Define methods (functions) within a class.\n",
    "*   Use the `__init__` method to initialize objects.\n",
    "*   Apply classes to model simple astronomical concepts.\n",
    "\n",
    "**Key Terms:**\n",
    "\n",
    "*   **Class:** A blueprint or template for creating objects. It defines the attributes (data) and methods (behavior) that objects of that class will have.\n",
    "*   **Object:** An instance of a class. It is a specific realization of the blueprint defined by the class.\n",
    "*   **Attribute:** A variable that stores data associated with an object. It describes a characteristic or property of the object (e.g., mass, radius, name).\n",
    "*   **Method:** A function that is associated with a class and operates on objects of that class. It defines the object's behavior (e.g., calculate distance, describe).\n",
    "*   **Instance:** A specific object created from a class.\n",
    "*   `__init__`: Also known as the \"constructor\", is a special method in a Python class that's automatically called when you create a new object (instance) of that class.\n",
    "\n",
    "\n",
    "## Defining a Simple Class\n",
    "In the example below, we will define a Python `class` called Planet that contains the name and mass of a Planet."
   ]
  },
  {
   "cell_type": "code",
   "execution_count": 2,
   "metadata": {},
   "outputs": [],
   "source": [
    "# Example 1: Defining a Simple Planet Class\n",
    "\n",
    "# Let's define a class called 'Planet' to represent a planet in our solar system.\n",
    "\n",
    "class Planet:\n",
    "    \"\"\"Represents a planet with a name and mass.\"\"\"\n",
    "\n",
    "    def __init__(self, name, mass): # This is a special method\n",
    "        \"\"\"Initializes a Planet object.\n",
    "\n",
    "        Args:\n",
    "            name (str): The name of the planet (e.g., \"Earth\", \"Mars\").\n",
    "            mass (float): The mass of the planet (in Earth masses).\n",
    "        \"\"\"\n",
    "        # 'self' refers to the instance of the class (the specific Planet object)\n",
    "        # We assign the values passed to the __init__ method to the object's attributes:\n",
    "        self.name = name  # The planet's name\n",
    "        self.mass = mass  # The planet's mass\n",
    "\n",
    "    def describe(self):\n",
    "        \"\"\"Prints a description of the planet.\"\"\"\n",
    "        print(f\"Planet: {self.name}\")\n",
    "        print(f\"Mass: {self.mass} Earth masses\")\n",
    "\n",
    "# Creating an object (instance) of the Planet class:\n",
    "earth = Planet(\"Earth\", 1.0) #Name and Mass\n",
    "mars = Planet(\"Mars\", 0.107) #Name and Mass"
   ]
  },
  {
   "cell_type": "markdown",
   "metadata": {},
   "source": [
    "`earth` and `mars` are now objects of the Planet class. Both has attributes `name` and `mass` with the assigned values.\n",
    "\n",
    "\n",
    "Now we can call the method\n"
   ]
  },
  {
   "cell_type": "code",
   "execution_count": 3,
   "metadata": {},
   "outputs": [
    {
     "name": "stdout",
     "output_type": "stream",
     "text": [
      "Planet: Earth\n",
      "Mass: 1.0 Earth masses\n",
      "Planet: Mars\n",
      "Mass: 0.107 Earth masses\n"
     ]
    }
   ],
   "source": [
    "earth.describe()\n",
    "mars.describe()"
   ]
  },
  {
   "cell_type": "markdown",
   "metadata": {},
   "source": [
    "## Understanding Attributes and Methods\n",
    "\n",
    "<div style=\"text-align: center;\">\n",
    "  <img src=\"https://lh6.googleusercontent.com/JRAfU2HbOIqGFPPEqBi1Wj0Uttbn_TBLgnl0CqnGaqonBaa2KYpBmcJu2aXywtT9eoFJb3H5q4AD8r3ce8oB8sTKX1Y9qkjIiCT4f0A5HHFblsZjtUiPF0kyTLDooVpQnH8HKtX-6joRG7JJTWm-L9Ss-nFBtOxQjHN8Y7LqCtNoR-jMl7rQrAPJ6g\" width=\"800\"/>\n",
    "</div>\n",
    "\n",
    "\n",
    "*   **Attributes:** These are the variables that store data related to the object. In the `Planet` class example, `name` and `mass` are attributes. They hold specific values for each planet object.\n",
    "\n",
    "*   **Methods:** These are functions that operate on the object's data. They define the object's behavior. In the `Planet` class example, `describe` is a method. It prints information about the planet.\n",
    "\n",
    "To access an attribute or call a method, use the dot notation (`object.attribute` or `object.method()`)."
   ]
  },
  {
   "cell_type": "code",
   "execution_count": 4,
   "metadata": {},
   "outputs": [
    {
     "name": "stdout",
     "output_type": "stream",
     "text": [
      "Star: Sun\n",
      "  Mass: 1.0 Solar masses\n",
      "  Radius: 1.0 Solar radii\n",
      "  Temperature: 5778 K\n",
      "Star: Sirius\n",
      "  Mass: 2.02 Solar masses\n",
      "  Radius: 1.71 Solar radii\n",
      "  Temperature: 9940 K\n"
     ]
    }
   ],
   "source": [
    "# Example 2: Adding More Attributes to a Star Class\n",
    "\n",
    "class Star:\n",
    "    \"\"\"Represents a star with name, mass, radius, and temperature.\"\"\"\n",
    "\n",
    "    def __init__(self, name, mass, radius, temperature):\n",
    "        \"\"\"Initializes a Star object.\"\"\"\n",
    "        self.name = name\n",
    "        self.mass = mass\n",
    "        self.radius = radius\n",
    "        self.temperature = temperature\n",
    "\n",
    "    def describe(self):\n",
    "        \"\"\"Prints a description of the star.\"\"\"\n",
    "        print(f\"Star: {self.name}\")\n",
    "        print(f\"  Mass: {self.mass} Solar masses\")\n",
    "        print(f\"  Radius: {self.radius} Solar radii\")\n",
    "        print(f\"  Temperature: {self.temperature} K\")\n",
    "\n",
    "# Creating Star objects:\n",
    "sun = Star(\"Sun\", 1.0, 1.0, 5778)\n",
    "sirius = Star(\"Sirius\", 2.02, 1.71, 9940)\n",
    "\n",
    "sun.describe()\n",
    "sirius.describe()"
   ]
  },
  {
   "cell_type": "markdown",
   "metadata": {},
   "source": [
    "### Adding Methods - Calculating Circumference of a Planet\n",
    "\n",
    "Methods are defined inside the class and can do various operations on the class attributes. They must always have `self` as its first argument."
   ]
  },
  {
   "cell_type": "code",
   "execution_count": 5,
   "metadata": {},
   "outputs": [
    {
     "name": "stdout",
     "output_type": "stream",
     "text": [
      "Planet: Earth\n",
      "  Mass: 1.0 Earth Masses\n",
      "  Radius: 1.0 Earth Radii\n",
      "Earth Circumference: 6.28318\n",
      "Planet: Mars\n",
      "  Mass: 0.1 Earth Masses\n",
      "  Radius: 0.5 Earth Radii\n",
      "Mars Circumference: 3.14159\n"
     ]
    }
   ],
   "source": [
    "# Example 3: Adding a method\n",
    "\n",
    "class Planet:\n",
    "    \"\"\"Represents a planet with name, mass and radius.\"\"\"\n",
    "\n",
    "    def __init__(self, name, mass, radius):\n",
    "        \"\"\"Initializes a Planet object.\"\"\"\n",
    "        self.name = name\n",
    "        self.mass = mass\n",
    "        self.radius = radius\n",
    "\n",
    "    def describe(self):\n",
    "        \"\"\"Prints a description of the star.\"\"\"\n",
    "        print(f\"Planet: {self.name}\")\n",
    "        print(f\"  Mass: {self.mass} Earth Masses\")\n",
    "        print(f\"  Radius: {self.radius} Earth Radii\")\n",
    "\n",
    "    def calculate_circumference(self):\n",
    "        circumference = 2 * 3.14159 * self.radius\n",
    "        return circumference\n",
    "\n",
    "# Creating Planet objects:\n",
    "earth = Planet(\"Earth\", 1.0, 1.0)\n",
    "mars = Planet(\"Mars\", 0.1, 0.5)\n",
    "\n",
    "earth.describe()\n",
    "print(f\"Earth Circumference: {earth.calculate_circumference()}\")\n",
    "mars.describe()\n",
    "print(f\"Mars Circumference: {mars.calculate_circumference()}\")"
   ]
  },
  {
   "cell_type": "markdown",
   "metadata": {},
   "source": [
    "## The `__init__` Method: Initializing Objects\n",
    "\n",
    "The `__init__` method (pronounced \"dunder init,\" short for \"double underscore init\") is a special method in Python classes. It is automatically called when a new object (instance) of the class is created. Its primary purpose is to initialize the object's attributes with the initial values.\n",
    "\n",
    "*   **Purpose:** Sets up the initial state of the object.\n",
    "*   **Arguments:** Takes `self` as the first argument (referring to the instance being created) and any other arguments needed to initialize the object's attributes.\n",
    "*   **Automatic Call:** It's called automatically when you create an instance of the class (e.g., `earth = Planet(\"Earth\", 1.0)`)."
   ]
  },
  {
   "cell_type": "code",
   "execution_count": 6,
   "metadata": {},
   "outputs": [
    {
     "name": "stdout",
     "output_type": "stream",
     "text": [
      "The RA for Sun is: 0\n",
      "The DEC for Sun is: 0\n",
      "The RA for Sirius is: 101.2872\n",
      "The DEC for Sirius is: -16.7161\n",
      "The RA for Proxima Centauri is: 217.4219\n",
      "The DEC for Proxima Centauri is: -62.6795\n"
     ]
    }
   ],
   "source": [
    "# Example 4: The power of Init - Creates a class of stars\n",
    "\n",
    "class Star:\n",
    "    \"\"\"Represents a star with a name, right ascension, and declination.\n",
    "\n",
    "    Attributes:\n",
    "        name (str): The name of the star.\n",
    "        ra (float): The right ascension of the star in degrees.\n",
    "        dec (float): The declination of the star in degrees.\n",
    "    \"\"\"\n",
    "\n",
    "    def __init__(self, name, ra, dec):\n",
    "        \"\"\"Initializes a Star object.\n",
    "\n",
    "        Args:\n",
    "            name (str): The name of the star.\n",
    "            ra (float): The right ascension of the star in degrees.\n",
    "            dec (float): The declination of the star in degrees.\n",
    "        \"\"\"\n",
    "        self.name = name\n",
    "        self.ra = ra\n",
    "        self.dec = dec\n",
    "\n",
    "# Creating Star objects\n",
    "sun = Star(\"Sun\", 0, 0)\n",
    "sirius = Star(\"Sirius\", 101.2872, -16.7161) #RA = 101.2872 degrees, DEC = -16.7161 degrees\n",
    "proxima_centauri = Star(\"Proxima Centauri\", 217.4219, -62.6795)\n",
    "\n",
    "# Printing the attributes of the Star objects\n",
    "print(f\"The RA for {sun.name} is: {sun.ra}\")\n",
    "print(f\"The DEC for {sun.name} is: {sun.dec}\")\n",
    "\n",
    "print(f\"The RA for {sirius.name} is: {sirius.ra}\")\n",
    "print(f\"The DEC for {sirius.name} is: {sirius.dec}\")\n",
    "\n",
    "print(f\"The RA for {proxima_centauri.name} is: {proxima_centauri.ra}\")\n",
    "print(f\"The DEC for {proxima_centauri.name} is: {proxima_centauri.dec}\")"
   ]
  },
  {
   "cell_type": "markdown",
   "metadata": {},
   "source": [
    "### Class with boolean attributes:\n",
    "\n",
    "Python has boolean attributes that can be used inside a class.\n",
    "\n",
    "### The if statement in classes\n",
    "\n",
    "Inside classes, we can create methods that utilizes if statements."
   ]
  },
  {
   "cell_type": "code",
   "execution_count": 7,
   "metadata": {},
   "outputs": [
    {
     "name": "stdout",
     "output_type": "stream",
     "text": [
      "Kepler-186f is a habitable exoplanet.\n",
      "Kepler-1649b is not a habitable exoplanet.\n"
     ]
    }
   ],
   "source": [
    "# Example 5: if statements and boolean in classes\n",
    "\n",
    "class Planet:\n",
    "    \"\"\"Represents an exoplanet with name, radius and habitality\n",
    "\n",
    "    Attributes:\n",
    "        name (str): Name of the exoplanet\n",
    "        radius (float): Radius of the exoplanet\n",
    "        isHabitable (bool): Boolean that determines if the planet is habitable\n",
    "    \"\"\"\n",
    "\n",
    "    def __init__(self, name, radius, isHabitable):\n",
    "        \"\"\"Initializes a Planet object\n",
    "\n",
    "        Args:\n",
    "            name (str): Name of the exoplanet\n",
    "            radius (float): Radius of the exoplanet\n",
    "            isHabitable (bool): Boolean that determines if the planet is habitable\n",
    "        \"\"\"\n",
    "        self.name = name\n",
    "        self.radius = radius\n",
    "        self.isHabitable = isHabitable\n",
    "\n",
    "    def checkHabitability(self):\n",
    "        \"\"\"Checks if the exoplanet is habitable or not\"\"\"\n",
    "\n",
    "        if self.isHabitable:\n",
    "            print(f\"{self.name} is a habitable exoplanet.\")\n",
    "\n",
    "        else:\n",
    "            print(f\"{self.name} is not a habitable exoplanet.\")\n",
    "\n",
    "# Creating Planet objects\n",
    "kepler186f = Planet(\"Kepler-186f\", 1.11, True) #Radius = 1.11 Earth radii. Habitable = True\n",
    "kepler1649b = Planet(\"Kepler-1649b\", 1.06, False) #Radius = 1.06 Earth radii. Habitable = False\n",
    "\n",
    "# Printing the attributes of the Star objects\n",
    "kepler186f.checkHabitability()\n",
    "kepler1649b.checkHabitability()"
   ]
  },
  {
   "cell_type": "markdown",
   "metadata": {},
   "source": [
    "### Combining Classes\n",
    "\n",
    "Classes can be combined with each other, in this way a planet can be atribbute of the class Star."
   ]
  },
  {
   "cell_type": "code",
   "execution_count": 8,
   "metadata": {},
   "outputs": [
    {
     "name": "stdout",
     "output_type": "stream",
     "text": [
      "Kepler-186 has a surface temperature of 3755 and these planets:\n",
      "Kepler-186f\n",
      "Kepler-1649b\n",
      "Earth\n"
     ]
    }
   ],
   "source": [
    "# Example 6: Combining classes\n",
    "\n",
    "class Planet:\n",
    "    \"\"\"Represents a planet with name and radius\n",
    "\n",
    "    Attributes:\n",
    "        name (str): Name of the exoplanet\n",
    "        radius (float): Radius of the exoplanet\n",
    "    \"\"\"\n",
    "\n",
    "    def __init__(self, name, radius):\n",
    "        \"\"\"Initializes a Planet object\n",
    "\n",
    "        Args:\n",
    "            name (str): Name of the exoplanet\n",
    "            radius (float): Radius of the exoplanet\n",
    "        \"\"\"\n",
    "        self.name = name\n",
    "        self.radius = radius\n",
    "\n",
    "    def describe(self):\n",
    "        \"\"\"Prints a description of the planet\"\"\"\n",
    "\n",
    "        print(f\"{self.name} has a radius of {self.radius}\")\n",
    "\n",
    "class Star:\n",
    "    \"\"\"Represents a star with name, temp and list of planets\n",
    "\n",
    "    Attributes:\n",
    "        name (str): Name of the star\n",
    "        temp (str): Surface temperature of the star\n",
    "        planets (str): list of planet objects.\n",
    "    \"\"\"\n",
    "\n",
    "    def __init__(self, name, temp, planets):\n",
    "        \"\"\"Initializes a Star object\n",
    "\n",
    "        Args:\n",
    "            name (str): Name of the star\n",
    "            temp (str): Surface temperature of the star\n",
    "            planets (str): list of planet objects.\n",
    "        \"\"\"\n",
    "        self.name = name\n",
    "        self.temp = temp\n",
    "        self.planets = planets\n",
    "\n",
    "    def describe(self):\n",
    "        \"\"\"Prints a description of the planet\"\"\"\n",
    "\n",
    "        print(f\"{self.name} has a surface temperature of {self.temp} and these planets:\")\n",
    "\n",
    "        for planet in self.planets:\n",
    "            print(planet.name)\n",
    "\n",
    "# Creating Planet objects\n",
    "kepler186f = Planet(\"Kepler-186f\", 1.11) #Radius = 1.11 Earth radii.\n",
    "kepler1649b = Planet(\"Kepler-1649b\", 1.06) #Radius = 1.06 Earth radii.\n",
    "earth = Planet(\"Earth\", 1) #Radius = 1.00 Earth radii.\n",
    "\n",
    "# Adding planets to a list\n",
    "planets = [kepler186f, kepler1649b, earth]\n",
    "\n",
    "# Creating a Star objects\n",
    "kepler186 = Star(\"Kepler-186\", 3755, planets) #Surface Temp = 3755K\n",
    "\n",
    "# Printing the attributes of the Star objects\n",
    "kepler186.describe()"
   ]
  },
  {
   "cell_type": "markdown",
   "metadata": {},
   "source": [
    "### Class to create rockets\n",
    "\n",
    "We can also create classes to classify stars, adding attributes such as name, spectral type and luminosity class and methods such as evolve."
   ]
  },
  {
   "cell_type": "code",
   "execution_count": 10,
   "metadata": {},
   "outputs": [],
   "source": [
    "# Example 7: Creating a class for Stars.\n",
    "\n",
    "class Star:\n",
    "    \"\"\"Represents a Star with spectral and luminosity classification.\n",
    "\n",
    "    Attributes:\n",
    "        name (str): Name of the star.\n",
    "        spectral_type (str): Spectral type (O, B, A, F, G, K, M).\n",
    "        luminosity_class (str): Luminosity class (I, II, III, IV, V).\n",
    "    \"\"\"\n",
    "\n",
    "    def __init__(self, name, spectral_type, luminosity_class):\n",
    "        \"\"\"Initializes a Star object.\n",
    "\n",
    "        Args:\n",
    "            name (str): Name of the star.\n",
    "            spectral_type (str): Spectral type of the star (e.g., 'G').\n",
    "            luminosity_class (str): Luminosity class (e.g., 'V' for main sequence).\n",
    "        \"\"\"\n",
    "        self.name = name\n",
    "        self.spectral_type = spectral_type.upper()\n",
    "        self.luminosity_class = luminosity_class.upper()\n",
    "\n",
    "    def classify(self):\n",
    "        \"\"\"Returns the full stellar classification.\"\"\"\n",
    "\n",
    "        classification = f\"{self.spectral_type}{self.luminosity_class}\"\n",
    "        print(f\"{self.name} is classified as a {classification} star.\")\n",
    "\n",
    "        if classification == \"G2V\":\n",
    "            print(\"This is a main-sequence star like the Sun.\")\n",
    "        elif self.luminosity_class == \"I\":\n",
    "            print(\"This is a supergiant star.\")\n",
    "        elif self.luminosity_class == \"III\":\n",
    "            print(\"This is a giant star.\")\n",
    "        else:\n",
    "            print(\"This is a star of type\", classification)\n"
   ]
  },
  {
   "cell_type": "code",
   "execution_count": 11,
   "metadata": {},
   "outputs": [
    {
     "name": "stdout",
     "output_type": "stream",
     "text": [
      "Alpha Centauri A is classified as a G2V star.\n",
      "This is a main-sequence star like the Sun.\n",
      "Rigel is classified as a B8I star.\n",
      "This is a supergiant star.\n",
      "Aldebaran is classified as a K5III star.\n",
      "This is a giant star.\n",
      "Sirius A is classified as a A1V star.\n",
      "This is a star of type A1V\n",
      "Proxima Centauri is classified as a M5V star.\n",
      "This is a star of type M5V\n",
      "Eta Bootis is classified as a G0IV star.\n",
      "This is a star of type G0IV\n"
     ]
    }
   ],
   "source": [
    "# Example 1: A Sun-like main sequence star\n",
    "star1 = Star(\"Alpha Centauri A\", \"G2\", \"V\")  # Sun-like star\n",
    "star1.classify()\n",
    "\n",
    "# Example 2: A blue supergiant\n",
    "star2 = Star(\"Rigel\", \"B8\", \"I\")  # Blue supergiant\n",
    "star2.classify()\n",
    "\n",
    "# Example 3: A red giant\n",
    "star3 = Star(\"Aldebaran\", \"K5\", \"III\")  # Red giant\n",
    "star3.classify()\n",
    "\n",
    "# Example 4: A white main-sequence star\n",
    "star4 = Star(\"Sirius A\", \"A1\", \"V\")  # Bright white main-sequence star\n",
    "star4.classify()\n",
    "\n",
    "# Example 5: A red dwarf\n",
    "star5 = Star(\"Proxima Centauri\", \"M5\", \"V\")  # Small red main-sequence star\n",
    "star5.classify()\n",
    "\n",
    "# Example 6: A yellow subgiant\n",
    "star6 = Star(\"Eta Bootis\", \"G0\", \"IV\")  # Subgiant transitioning from main sequence\n",
    "star6.classify()\n"
   ]
  },
  {
   "cell_type": "markdown",
   "metadata": {},
   "source": [
    "### Class for Compact Object\n",
    "\n",
    "We can create classes for Compact Object with a collapse method."
   ]
  },
  {
   "cell_type": "code",
   "execution_count": 14,
   "metadata": {},
   "outputs": [],
   "source": [
    "# Example 8: Creating a class for Compact Objects.\n",
    "\n",
    "class CompactObject:\n",
    "    \"\"\"Represents a Compact Object (Black Hole, Neutron Star, White Dwarf).\"\"\"\n",
    "\n",
    "    def __init__(self, name, object_type, mass, radius):\n",
    "        self.name = name\n",
    "        self.object_type = object_type.lower()  # Store the type in lowercase\n",
    "        self.mass = mass\n",
    "        self.radius = radius\n",
    "\n",
    "    def state(self):\n",
    "        if self.object_type == \"black hole\":\n",
    "            print(f\"{self.name} is a black hole.\")\n",
    "        elif self.object_type == \"neutron star\":\n",
    "            if self.mass > 1.4:\n",
    "                print(f\"{self.name} is a neutron star at the critical mass limit.\")\n",
    "            else:\n",
    "                print(f\"{self.name} is a stable neutron star.\")\n",
    "        elif self.object_type == \"white dwarf\":\n",
    "            if self.mass > 1.4:\n",
    "                print(f\"{self.name} will collapse into a neutron star or black hole.\")\n",
    "            else:\n",
    "                print(f\"{self.name} is a stable white dwarf.\")\n",
    "        else:\n",
    "            print(f\"Unknown compact object type: {self.object_type}.\")\n",
    "\n",
    "    def collapse(self):\n",
    "        if self.mass > 3:\n",
    "            print(f\"{self.name} collapsed into a black hole.\")\n",
    "            self.object_type = \"black hole\"\n",
    "            self.radius = 0\n",
    "        elif self.mass > 1.4:\n",
    "            print(f\"{self.name} collapsed into a neutron star.\")\n",
    "            self.object_type = \"neutron star\"\n",
    "        else:\n",
    "            print(f\"{self.name} remains a white dwarf.\")"
   ]
  },
  {
   "cell_type": "code",
   "execution_count": 15,
   "metadata": {},
   "outputs": [
    {
     "name": "stdout",
     "output_type": "stream",
     "text": [
      "Cygnus X-1 is a black hole.\n",
      "PSR B1919+21 is a neutron star at the critical mass limit.\n",
      "Sirius B is a stable white dwarf.\n",
      "Sirius B remains a white dwarf.\n",
      "PSR B1919+21 collapsed into a neutron star.\n"
     ]
    }
   ],
   "source": [
    "# Example compact object objects\n",
    "compact_obj1 = CompactObject(\"Cygnus X-1\", \"Black Hole\", 14.8, 40)  # Black hole example\n",
    "compact_obj2 = CompactObject(\"PSR B1919+21\", \"Neutron Star\", 1.44, 10)  # Neutron star at critical mass\n",
    "compact_obj3 = CompactObject(\"Sirius B\", \"White Dwarf\", 1.0, 0.008)  # White dwarf example\n",
    "\n",
    "# Checking the state of the objects\n",
    "compact_obj1.state()\n",
    "compact_obj2.state()\n",
    "compact_obj3.state()\n",
    "\n",
    "# Simulating collapse if mass exceeds limit\n",
    "compact_obj3.collapse()\n",
    "compact_obj2.collapse()\n"
   ]
  },
  {
   "cell_type": "markdown",
   "metadata": {},
   "source": [
    "## Exercises\n",
    "\n",
    "1. Telescope Class: Create a `Telescope` class with attributes like `aperture` (diameter of the lens), `location` (latitude, longitude), and methods to `point_at` (take a target RA and Dec) and `take_image`.\n",
    "\n",
    "2. Comet Class: Create a `Comet` class with attributes like `name`, `orbital_period`, and `closest_approach_date`. Add a method to `calculate_distance_from_sun` given a date.\n",
    "\n",
    "3. Solar System: Create a Solar System class that contains the Sun object, and can include a method to describe the Sun and its Planet objects.\n",
    "\n",
    "4. Define a class for Galaxies. The galaxy needs attributes such as num of stars, galaxy type and the presence or absense of a black hole.\n",
    "\n",
    "5. Define a class for pulsars. The pulsars need attributes such as period, magnetic field. It also needs a method to calculate EM emmisions."
   ]
  },
  {
   "cell_type": "markdown",
   "metadata": {},
   "source": [
    "## Summary\n",
    "\n",
    "This notebook introduced the fundamental concepts of classes in Python. You learned how to define classes, create objects, define attributes and methods, and use the `__init__` method to initialize objects. Classes provide a powerful way to organize code and model real-world concepts, enabling you to create more complex simulations and analysis.\n",
    "\n",
    "**Additional Resources**\n",
    "\n",
    "Here is a python class documentation <https://docs.python.org/3/tutorial/classes.html>.\n",
    "\n",
    "Read about Object Oriented Programming from [Real Python](https://realpython.com/python-classes/)."
   ]
  },
  {
   "cell_type": "code",
   "execution_count": null,
   "metadata": {},
   "outputs": [],
   "source": []
  }
 ],
 "metadata": {
  "kernelspec": {
   "display_name": "Python 3 (ipykernel)",
   "language": "python",
   "name": "python3"
  },
  "language_info": {
   "codemirror_mode": {
    "name": "ipython",
    "version": 3
   },
   "file_extension": ".py",
   "mimetype": "text/x-python",
   "name": "python",
   "nbconvert_exporter": "python",
   "pygments_lexer": "ipython3",
   "version": "3.10.11"
  }
 },
 "nbformat": 4,
 "nbformat_minor": 4
}

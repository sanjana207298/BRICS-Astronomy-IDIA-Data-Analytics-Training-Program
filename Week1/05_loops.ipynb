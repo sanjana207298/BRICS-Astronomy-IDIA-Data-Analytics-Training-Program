{
 "cells": [
  {
   "cell_type": "markdown",
   "metadata": {},
   "source": [
    "# Python Loops\n",
    "\n",
    "[![Open In Colab](https://colab.research.google.com/assets/colab-badge.svg)](https://colab.research.google.com/github/Danselem/brics_astro/blob/main/Week1/05_loops.ipynb)\n",
    "\n",
    "\n",
    "\n",
    "<div style=\"text-align: center;\">\n",
    "  <img src=\"https://i0.wp.com/www.sciencenews.org/wp-content/uploads/2017/08/story-7_main_C.jpg?fit=860%2C460&amp;ssl=1\" width=\"800\"/>\n",
    "</div>\n",
    "\n",
    "This notebook is your launchpad to Python loops. Loops are fundamental tools in programming, and they allow us to automate tasks and analyze data.\n",
    "\n",
    "Think of loops as your robotic spacecraft tirelessly observing stars, calculating orbits, or searching for exoplanets. Instead of manually repeating the same task over and over again, we'll program our spacecraft (using Python loops) to do it for us!\n",
    "\n",
    "This notebook assumes you have some very basic familiarity with Python syntax (variables, data types like integers and strings). If you're completely new, I recommend checking out Notebooks 2 and 3.\n",
    "\n",
    "**What we'll cover:**\n",
    "\n",
    "*   What are Loops?\n",
    "*   `for` Loops: Repeating Actions a Specific Number of Times\n",
    "*   `while` Loops: Repeating Actions Until a Condition is Met\n",
    "*   Loop Control: `break` and `continue`\n",
    "*   Looping Through Lists and Strings (our galaxies and constellations!)\n",
    "*   Nested Loops: Loops within Loops (exploring multi-dimensional data)\n",
    "\n",
    "\n"
   ]
  },
  {
   "cell_type": "markdown",
   "metadata": {},
   "source": [
    "## What are Loops?\n",
    "\n",
    "Imagine you want to print the numbers from 1 to 5. You could do this:"
   ]
  },
  {
   "cell_type": "code",
   "execution_count": 1,
   "metadata": {},
   "outputs": [
    {
     "name": "stdout",
     "output_type": "stream",
     "text": [
      "1\n",
      "2\n",
      "3\n",
      "4\n",
      "5\n"
     ]
    }
   ],
   "source": [
    "print(1)\n",
    "print(2)\n",
    "print(3)\n",
    "print(4)\n",
    "print(5)"
   ]
  },
  {
   "cell_type": "markdown",
   "metadata": {},
   "source": [
    "But what if you wanted to print the numbers from 1 to 100?  Writing 100 lines of code would be tedious!\n",
    "\n",
    "That's where loops come in. A loop allows us to repeat a block of code multiple times, automatically.\n",
    "\n",
    "There are two main types of loops in Python: 'for' loops and 'while' loops. We'll explore each of them."
   ]
  },
  {
   "cell_type": "markdown",
   "metadata": {},
   "source": [
    "## `for` Loops: Repeating Actions a Specific Number of Times\n",
    "\n",
    "A `for` loop is used when you know *in advance* how many times you want to repeat a block of code. \n",
    "\n",
    "It's perfect for iterating over a sequence of things (like numbers, stars in a list, or letters in a word).\n",
    "\n",
    "The basic syntax is:\n",
    "\n",
    "```python\n",
    "# for variable in sequence:\n",
    "#     # Code to be executed repeatedly\n",
    "\n",
    "- variable: A temporary variable that takes on the value of each item in the sequence, one at a time.\n",
    "- sequence: A collection of items (e.g., a range of numbers, a list of star names, a string).\n",
    "\n",
    "The code inside the loop (indented!) is executed once for each item in the sequence."
   ]
  },
  {
   "cell_type": "code",
   "execution_count": 2,
   "metadata": {},
   "outputs": [
    {
     "name": "stdout",
     "output_type": "stream",
     "text": [
      "10\n",
      "9\n",
      "8\n",
      "7\n",
      "6\n",
      "5\n",
      "4\n",
      "3\n",
      "2\n",
      "1\n",
      "BLAST OFF!\n"
     ]
    }
   ],
   "source": [
    "# Example 1: Counting Stars\n",
    "\n",
    "# Let's print a countdown for a rocket launch!\n",
    "\n",
    "for i in range(10, 0, -1): # range(start, stop, step) generates a sequence of numbers\n",
    "    print(i) #print the current number 'i'\n",
    "print(\"BLAST OFF!\")"
   ]
  },
  {
   "cell_type": "markdown",
   "metadata": {},
   "source": [
    "In this example above:\n",
    "\n",
    "* `i` takes on the values 10, 9, 8, 7, 6, 5, 4, 3, 2, 1 in that order.\n",
    "* `range(10, 0, -1)`  creates a sequence of numbers starting at 5, going down to (but not including) 0, decreasing by 1 each time.\n",
    "* The `print(i)` statement is executed for each value of `i`."
   ]
  },
  {
   "cell_type": "markdown",
   "metadata": {},
   "source": [
    "### Understanding the `range()` Function\n",
    "\n",
    "The `range()` function is incredibly useful for creating sequences of numbers to use in `for` loops.  It can take one, two, or three arguments:\n",
    "\n",
    "*   `range(stop)`: Generates numbers from 0 up to (but not including) `stop`.\n",
    "*   `range(start, stop)`: Generates numbers from `start` up to (but not including) `stop`.\n",
    "*   `range(start, stop, step)`: Generates numbers from `start` up to (but not including) `stop`, incrementing by `step`.\n",
    "\n",
    "Let's see some examples:"
   ]
  },
  {
   "cell_type": "code",
   "execution_count": 3,
   "metadata": {},
   "outputs": [
    {
     "name": "stdout",
     "output_type": "stream",
     "text": [
      "0\n",
      "1\n",
      "2\n",
      "3\n",
      "4\n",
      "5\n",
      "6\n",
      "7\n",
      "8\n",
      "9\n",
      "---\n",
      "2\n",
      "3\n",
      "4\n",
      "5\n",
      "---\n",
      "0\n",
      "2\n",
      "4\n",
      "6\n",
      "8\n",
      "10\n"
     ]
    }
   ],
   "source": [
    "# Example 2: Different uses of range()\n",
    "\n",
    "# Numbers from 0 to 9\n",
    "for i in range(10):\n",
    "    print(i)\n",
    "\n",
    "print(\"---\")\n",
    "\n",
    "# Numbers from 2 to 5\n",
    "for j in range(2, 6):\n",
    "    print(j)\n",
    "\n",
    "print(\"---\")\n",
    "\n",
    "# Even numbers from 0 to 10\n",
    "for k in range(0, 11, 2):\n",
    "    print(k)"
   ]
  },
  {
   "cell_type": "markdown",
   "metadata": {},
   "source": [
    "### Astronomy Example: Simulating Planet Orbits\n",
    "\n",
    "Let's simulate the orbit of a planet around a star.  We'll print the planet's position at different points in its orbit.\n",
    "\n",
    "(This is a simplified example. Real planet orbits are more complex!)"
   ]
  },
  {
   "cell_type": "code",
   "execution_count": 4,
   "metadata": {},
   "outputs": [
    {
     "name": "stdout",
     "output_type": "stream",
     "text": [
      "Day 0: Earth is at 0.00 degrees around the Sun.\n",
      "Day 30: Earth is at 29.59 degrees around the Sun.\n",
      "Day 60: Earth is at 59.18 degrees around the Sun.\n",
      "Day 90: Earth is at 88.77 degrees around the Sun.\n",
      "Day 120: Earth is at 118.36 degrees around the Sun.\n",
      "Day 150: Earth is at 147.95 degrees around the Sun.\n",
      "Day 180: Earth is at 177.53 degrees around the Sun.\n",
      "Day 210: Earth is at 207.12 degrees around the Sun.\n",
      "Day 240: Earth is at 236.71 degrees around the Sun.\n",
      "Day 270: Earth is at 266.30 degrees around the Sun.\n",
      "Day 300: Earth is at 295.89 degrees around the Sun.\n",
      "Day 330: Earth is at 325.48 degrees around the Sun.\n",
      "Day 360: Earth is at 355.07 degrees around the Sun.\n"
     ]
    }
   ],
   "source": [
    "# Example 3: Planet Orbit Simulation (simplified)\n",
    "\n",
    "star_name = \"Sun\"\n",
    "planet_name = \"Earth\"\n",
    "orbital_period = 365 # Days\n",
    "\n",
    "# Let's print the planet's position every 30 days\n",
    "for day in range(0, orbital_period, 30):\n",
    "    position = day / orbital_period * 360  # Calculate the planet's angular position (in degrees)\n",
    "    print(f\"Day {day}: {planet_name} is at {position:.2f} degrees around the {star_name}.\") # Format to 2 decimal places"
   ]
  },
  {
   "cell_type": "markdown",
   "metadata": {},
   "source": [
    "## `while` Loops: Repeating Actions Until a Condition is Met\n",
    "\n",
    "A `while` loop is used when you want to repeat a block of code *as long as* a certain condition is true. You don't necessarily know in advance how many times the loop will run.\n",
    "\n",
    "The basic syntax is:\n",
    "\n",
    "```python\n",
    "# while condition:\n",
    "#     # Code to be executed repeatedly (as long as the condition is True)\n",
    "```\n",
    "\n",
    "where:\n",
    "*   condition: An expression that evaluates to either True or False.\n",
    "\n",
    "The code inside the loop (indented!) is executed repeatedly as long as the condition remains True.\n",
    "\n",
    "Important: Make sure the condition eventually becomes False, or your loop will run forever (an infinite loop!)."
   ]
  },
  {
   "cell_type": "code",
   "execution_count": 5,
   "metadata": {},
   "outputs": [
    {
     "name": "stdout",
     "output_type": "stream",
     "text": [
      "10\n",
      "9\n",
      "8\n",
      "7\n",
      "6\n",
      "5\n",
      "4\n",
      "3\n",
      "2\n",
      "1\n",
      "BLAST OFF!\n"
     ]
    }
   ],
   "source": [
    "# Example 4:  Counting Down with a while loop\n",
    "\n",
    "countdown = 10\n",
    "\n",
    "while countdown > 0:\n",
    "    print(countdown)\n",
    "    countdown = countdown - 1  # Crucial:  Decrement the counter to eventually make the condition False\n",
    "print(\"BLAST OFF!\")"
   ]
  },
  {
   "cell_type": "markdown",
   "metadata": {},
   "source": [
    "### Astronomy Example: Searching for Habitable Planets\n",
    "\n",
    "Imagine we're searching for planets within the habitable zone of a star. The habitable zone is the region around a star where liquid water could exist on a planet's surface (a key ingredient for life as we know it!). For more on habitable zone, see the [NASA Article](https://science.nasa.gov/exoplanets/habitable-zone/).\n",
    "\n",
    "We'll simulate measuring the temperature of planets at increasing distances from a star until we find one that's potentially habitable."
   ]
  },
  {
   "cell_type": "code",
   "execution_count": 8,
   "metadata": {},
   "outputs": [
    {
     "name": "stdout",
     "output_type": "stream",
     "text": [
      "Checking planet at distance 0.50 AU from Kepler-186. Temperature: 200.00 K\n",
      "Checking planet at distance 0.60 AU from Kepler-186. Temperature: 185.00 K\n",
      "Checking planet at distance 0.70 AU from Kepler-186. Temperature: 170.00 K\n",
      "Checking planet at distance 0.80 AU from Kepler-186. Temperature: 155.00 K\n",
      "Checking planet at distance 0.90 AU from Kepler-186. Temperature: 140.00 K\n",
      "Checking planet at distance 1.00 AU from Kepler-186. Temperature: 125.00 K\n",
      "Checking planet at distance 1.10 AU from Kepler-186. Temperature: 110.00 K\n",
      "Checking planet at distance 1.20 AU from Kepler-186. Temperature: 95.00 K\n",
      "Checking planet at distance 1.30 AU from Kepler-186. Temperature: 80.00 K\n",
      "Checking planet at distance 1.40 AU from Kepler-186. Temperature: 65.00 K\n",
      "Checking planet at distance 1.50 AU from Kepler-186. Temperature: 50.00 K\n",
      "Checking planet at distance 1.60 AU from Kepler-186. Temperature: 35.00 K\n",
      "Checking planet at distance 1.70 AU from Kepler-186. Temperature: 20.00 K\n",
      "Checking planet at distance 1.80 AU from Kepler-186. Temperature: 5.00 K\n",
      "no habital planet found\n"
     ]
    }
   ],
   "source": [
    "# Example 5: Habitable Planet Search Simulation\n",
    "\n",
    "star_name = \"Kepler-186\"\n",
    "distance = 0.5  # Starting distance from the star (in Astronomical Units, AU)\n",
    "temperature = 200  # Starting temperature (in Kelvin)\n",
    "habitable = False #set a variable to stop the loop\n",
    "# We'll assume a planet is habitable if its temperature is between 273K (0°C) and 303K (30°C)\n",
    "habitable_min_temp = 273\n",
    "habitable_max_temp = 303\n",
    "\n",
    "while not habitable:\n",
    "    print(f\"Checking planet at distance {distance:.2f} AU from {star_name}. Temperature: {temperature:.2f} K\")\n",
    "\n",
    "    if habitable_min_temp <= temperature <= habitable_max_temp:\n",
    "        print(f\"Potential habitable planet found at {distance:.2f} AU! Temperature is {temperature:.2f} K\")\n",
    "        habitable = True\n",
    "    else:\n",
    "        distance = distance + 0.1  # Move to the next planet further out\n",
    "        temperature = temperature - 15 #Assume temperature decreases as distance increases\n",
    "        if temperature <=0:\n",
    "            print(\"no habital planet found\")\n",
    "            break"
   ]
  },
  {
   "cell_type": "markdown",
   "metadata": {},
   "source": [
    "In a real simulation, we'd use a more accurate model to calculate temperature based on distance, star type, and planetary albedo (reflectivity)."
   ]
  },
  {
   "cell_type": "markdown",
   "metadata": {},
   "source": [
    "## Loop Control: `break` and `continue`\n",
    "\n",
    "Sometimes you need more control over how a loop executes. That's where `break` and `continue` come in.\n",
    "\n",
    "*   `break`:  Immediately exits the loop (even if the condition is still `True`).\n",
    "*   `continue`:  Skips the rest of the current iteration of the loop and goes to the next iteration."
   ]
  },
  {
   "cell_type": "code",
   "execution_count": 9,
   "metadata": {},
   "outputs": [
    {
     "name": "stdout",
     "output_type": "stream",
     "text": [
      "Checking star: Alpha Centauri\n",
      "Checking star: Sirius\n",
      "Found Betelgeuse!\n"
     ]
    }
   ],
   "source": [
    "# Example 6: Using break and continue\n",
    "\n",
    "# Let's search for a specific star in a list of stars.\n",
    "\n",
    "stars = [\"Alpha Centauri\", \"Sirius\", \"Betelgeuse\", \"Vega\", \"Polaris\"]\n",
    "search_star = \"Betelgeuse\"\n",
    "\n",
    "for star in stars:\n",
    "    if star == search_star:\n",
    "        print(f\"Found {search_star}!\")\n",
    "        break  # Exit the loop once we find the star\n",
    "    else:\n",
    "        print(f\"Checking star: {star}\")"
   ]
  },
  {
   "cell_type": "code",
   "execution_count": 10,
   "metadata": {},
   "outputs": [
    {
     "name": "stdout",
     "output_type": "stream",
     "text": [
      "0\n",
      "1\n",
      "2\n",
      "3\n",
      "4\n",
      "5\n",
      "6\n",
      "7\n",
      "8\n",
      "9\n",
      "10\n"
     ]
    }
   ],
   "source": [
    "#Using Break to avoid a never ending loop.\n",
    "\n",
    "i = 0\n",
    "while True:\n",
    "    print(i)\n",
    "    i = i + 1\n",
    "    if i > 10:\n",
    "        break # Will stop the loop once i is greater than 10."
   ]
  },
  {
   "cell_type": "markdown",
   "metadata": {},
   "source": [
    "## Looping Through Lists and Strings\n",
    "\n",
    "Loops are especially powerful when working with lists and strings.\n",
    "\n",
    "*   **Lists:**  A list is an ordered collection of items.  We can use a `for` loop to access each item in the list.\n",
    "*   **Strings:**  A string is a sequence of characters.  We can use a `for` loop to access each character in the string."
   ]
  },
  {
   "cell_type": "code",
   "execution_count": 11,
   "metadata": {},
   "outputs": [
    {
     "name": "stdout",
     "output_type": "stream",
     "text": [
      "Constellations:\n",
      "Orion\n",
      "Ursa Major\n",
      "Gemini\n",
      "Taurus\n",
      "---\n",
      "Characters in Antares:\n",
      "A\n",
      "n\n",
      "t\n",
      "a\n",
      "r\n",
      "e\n",
      "s\n"
     ]
    }
   ],
   "source": [
    "# Example 7: Looping through a list of constellations\n",
    "\n",
    "constellations = [\"Orion\", \"Ursa Major\", \"Gemini\", \"Taurus\"]\n",
    "\n",
    "print(\"Constellations:\")\n",
    "for constellation in constellations:\n",
    "    print(constellation)\n",
    "\n",
    "print(\"---\")\n",
    "\n",
    "# Example 8: Looping through a string (star name)\n",
    "\n",
    "star_name = \"Antares\"\n",
    "\n",
    "print(\"Characters in\", star_name + \":\")\n",
    "for char in star_name:\n",
    "    print(char)"
   ]
  },
  {
   "cell_type": "markdown",
   "metadata": {},
   "source": [
    "## Nested Loops: Loops within Loops\n",
    "\n",
    "A nested loop is a loop inside another loop. They are useful for working with multi-dimensional data, like tables or grids. Imagine analyzing a grid of pixels in an image from the James Webb Space Telescope or MeerKAT radio image."
   ]
  },
  {
   "cell_type": "code",
   "execution_count": 12,
   "metadata": {},
   "outputs": [
    {
     "name": "stdout",
     "output_type": "stream",
     "text": [
      "1 * 1 = 1\n",
      "1 * 2 = 2\n",
      "1 * 3 = 3\n",
      "---\n",
      "2 * 1 = 2\n",
      "2 * 2 = 4\n",
      "2 * 3 = 6\n",
      "---\n",
      "3 * 1 = 3\n",
      "3 * 2 = 6\n",
      "3 * 3 = 9\n",
      "---\n"
     ]
    }
   ],
   "source": [
    "# Example 9: Nested Loops (Creating a Multiplication Table)\n",
    "\n",
    "for i in range(1, 4):  # Outer loop\n",
    "    for j in range(1, 4):  # Inner loop\n",
    "        print(f\"{i} * {j} = {i*j}\")\n",
    "    print(\"---\")  # Separator between rows"
   ]
  },
  {
   "cell_type": "code",
   "execution_count": 13,
   "metadata": {},
   "outputs": [
    {
     "name": "stdout",
     "output_type": "stream",
     "text": [
      "Star System: ['Alpha Centauri A', 'Alpha Centauri B', 'Proxima Centauri']\n",
      "Star: Alpha Centauri A\n",
      "Star: Alpha Centauri B\n",
      "Star: Proxima Centauri\n",
      "----\n",
      "Star System: ['Sirius A', 'Sirius B']\n",
      "Star: Sirius A\n",
      "Star: Sirius B\n",
      "----\n"
     ]
    }
   ],
   "source": [
    "# Nested loop example for the stars\n",
    "star_systems = [[\"Alpha Centauri A\", \"Alpha Centauri B\", \"Proxima Centauri\"],[\"Sirius A\", \"Sirius B\"]]\n",
    "\n",
    "# Outer loop iterates through each star system\n",
    "for system in star_systems:\n",
    "    print(f\"Star System: {system}\")\n",
    "    #Inner loop iterates through the stars in the current system\n",
    "    for star in system:\n",
    "        print(f\"Star: {star}\")\n",
    "    print(\"----\")"
   ]
  },
  {
   "cell_type": "markdown",
   "metadata": {},
   "source": [
    "## More Practical Astronomy Examples\n",
    "\n",
    "Here are some more complex examples for further illustratration of loops in astronomical."
   ]
  },
  {
   "cell_type": "code",
   "execution_count": 14,
   "metadata": {},
   "outputs": [
    {
     "name": "stdout",
     "output_type": "stream",
     "text": [
      "The total luminosity of the stars is: 8.7\n"
     ]
    }
   ],
   "source": [
    "#Example 10: Calculating total luminosity\n",
    "\n",
    "luminosities = [0.5, 1.2, 0.8, 5.3, 0.9] # Luminosity values of stars relative to the sun\n",
    "\n",
    "total_luminosity = 0 # Initialize the total luminosity\n",
    "\n",
    "#Iterate through the luminosities and add each value to the total\n",
    "for luminosity in luminosities:\n",
    "    total_luminosity = total_luminosity + luminosity\n",
    "#Print the total luminosity\n",
    "print(f\"The total luminosity of the stars is: {total_luminosity}\")"
   ]
  },
  {
   "cell_type": "code",
   "execution_count": 15,
   "metadata": {},
   "outputs": [
    {
     "name": "stdout",
     "output_type": "stream",
     "text": [
      "Habitable exoplanets: ['Kepler-186f', 'TRAPPIST-1e']\n"
     ]
    }
   ],
   "source": [
    "#Example 11: Filter list of exoplanets\n",
    "\n",
    "exoplanets = [\n",
    "    {\"name\": \"Kepler-186f\", \"radius\": 1.2, \"habitable\": True},\n",
    "    {\"name\": \"HD 209458 b\", \"radius\": 1.38, \"habitable\": False},\n",
    "    {\"name\": \"TRAPPIST-1e\", \"radius\": 0.91, \"habitable\": True},\n",
    "    {\"name\": \"51 Pegasi b\", \"radius\": 1.50, \"habitable\": False},\n",
    "]\n",
    "\n",
    "habitable_exoplanets = [] # List to store habitable exoplanets\n",
    "\n",
    "#Iterate through the exoplanets and add the habitable ones to the new list\n",
    "for exoplanet in exoplanets:\n",
    "    if exoplanet[\"habitable\"]:\n",
    "        habitable_exoplanets.append(exoplanet[\"name\"])\n",
    "\n",
    "#Print the list of habitable exoplanets\n",
    "print(\"Habitable exoplanets:\", habitable_exoplanets)"
   ]
  },
  {
   "cell_type": "markdown",
   "metadata": {},
   "source": [
    "## Exercises \n",
    "\n",
    "\n",
    "1.  Star Catalog: You have a list of star names: `stars = [\"Sirius\", \"Canopus\", \"Rigel\", \"Proxima Centauri\", \"Vega\"]`.  Use a `for` loop to print each star name with its index in the list (starting from 1).  For example: \"1. Sirius\", \"2. Canopus\", etc.\n",
    "\n",
    "2.  Temperature Conversion:  You have a list of temperatures in Celsius: `celsius_temps = [ -10, 0, 25, 100, 500 ]`. Use a `for` loop to convert each temperature to Fahrenheit and print the result. The formula is:  `Fahrenheit = (Celsius * 9/5) + 32`.\n",
    "\n",
    "3.  Exoplanet Distance:  Simulate the distance of an exoplanet from its star, increasing by 0.1 AU in each step.  Use a `while` loop to stop the simulation when the distance reaches 2.0 AU. Print the distance at each step.\n",
    "\n",
    "4.  Prime Number Checker: Write a code that checks if a number is Prime.\n",
    "\n",
    "5.  Fibonacci Sequence: Write a code that Prints the Fibonacci Sequence until a limit. For more on Fibonacci, see this [article](https://www.freecodecamp.org/news/python-program-to-print-the-fibonacci-sequence/)."
   ]
  },
  {
   "cell_type": "markdown",
   "metadata": {},
   "source": [
    "## Summary\n",
    "\n",
    "Congratulations! You've completed your journey into the world of Python loops.  You've learned how to:\n",
    "\n",
    "*   Use `for` loops to repeat actions a specific number of times.\n",
    "*   Use `while` loops to repeat actions until a condition is met.\n",
    "*   Control loops with `break` and `continue`.\n",
    "*   Loop through lists and strings.\n",
    "*   Use nested loops for multi-dimensional data.\n",
    "\n",
    "Loops are essential tools for programmers and scientist.  Keep practicing, and you'll be using them to analyze data, whether for astronomy or otherwise.\n",
    "\n",
    "**Additional Resources**\n",
    "\n",
    "To learn more about loops, kindly the Python Control Flow documentation [here](https://docs.python.org/3/tutorial/controlflow.html)."
   ]
  },
  {
   "cell_type": "markdown",
   "metadata": {},
   "source": []
  }
 ],
 "metadata": {
  "kernelspec": {
   "display_name": "Python 3 (ipykernel)",
   "language": "python",
   "name": "python3"
  },
  "language_info": {
   "codemirror_mode": {
    "name": "ipython",
    "version": 3
   },
   "file_extension": ".py",
   "mimetype": "text/x-python",
   "name": "python",
   "nbconvert_exporter": "python",
   "pygments_lexer": "ipython3",
   "version": "3.10.11"
  }
 },
 "nbformat": 4,
 "nbformat_minor": 4
}

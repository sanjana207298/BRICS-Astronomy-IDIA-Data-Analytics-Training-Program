{
 "cells": [
  {
   "cell_type": "markdown",
   "metadata": {},
   "source": [
    "# Modules and Packages in Python\n",
    "\n",
    "[![Open In Colab](https://colab.research.google.com/assets/colab-badge.svg)](https://colab.research.google.com/github/Danselem/brics_astro/blob/main/Week1/09_modules.ipynb)\n",
    "\n",
    "\n",
    "\n",
    "<div style=\"text-align: center;\">\n",
    "  <img src=\"https://science.nasa.gov/wp-content/uploads/2023/03/main-image-star-forming-region-carina-nircam-final-5mb-1-jpeg.webp?w=1536\" width=\"800\"/>\n",
    "</div>\n",
    "\n",
    "As you venture deeper into Python programming, you'll quickly discover that you don't have to reinvent the wheel for every task. Python's rich ecosystem of modules and packages provides a vast collection of pre-written code that you can use to extend your program's capabilities and solve a wide range of problems.\n",
    "\n",
    "Modules and packages are essentially collections of code (functions, classes, variables) that are organized together for a specific purpose. They allow you to reuse code, keep your projects organized, and leverage the expertise of other developers.\n",
    "\n",
    "This notebook will guide you through the basics of modules and packages in Python, covering how to import them, use their contents, and install external packages from the Python Package Index (PyPI).\n",
    "\n",
    "**Learning Objectives:**\n",
    "\n",
    "*   Understand the concept of modules and packages.\n",
    "*   Import modules using the `import` statement.\n",
    "*   Use the `from...import` statement to import specific items from a module.\n",
    "*   Import modules with aliases using `as`.\n",
    "*   Understand the difference between local (built-in) modules and external packages.\n",
    "*   Use the `math`, `string`, `array`, and `time` modules.\n",
    "*   Install external packages using `pip`.\n",
    "*   Use the `numpy` and `pandas` packages.\n",
    "*   Understand the concept of namespaces and how modules help avoid naming conflicts.\n",
    "\n",
    "**Key Terms:**\n",
    "\n",
    "*   **Module:** A file containing Python code (functions, classes, variables) that can be imported and used in other programs.\n",
    "*   **Package:** A collection of modules organized into a directory hierarchy. Packages help organize larger projects into logical units.\n",
    "*   `import`: A Python statement used to load and use modules or packages.\n",
    "*   `pip`: A package installer for Python. It's used to download and install packages from PyPI (Python Package Index).\n",
    "*   **PyPI (Python Package Index):** A repository of publicly available Python packages.\n",
    "*   **Namespace:** A container that holds a unique identifier for every object (e.g., variables, functions, classes) in Python. Modules create their own namespaces to avoid naming conflicts.\n",
    "\n",
    "## Importing a Module\n",
    "\n",
    "The `import` statement is used to load a module into your program.\n",
    "\n",
    "Once a module is imported, you can access its contents using the dot notation (`module_name.item_name`).\n"
   ]
  },
  {
   "cell_type": "code",
   "execution_count": 1,
   "metadata": {},
   "outputs": [
    {
     "name": "stdout",
     "output_type": "stream",
     "text": [
      "The square root of 16 is: 4.0\n",
      "The value of pi is: 3.141592653589793\n"
     ]
    }
   ],
   "source": [
    "# Example 1: Importing a Module\n",
    "\n",
    "import math  # Imports the 'math' module, which provides mathematical functions.\n",
    "\n",
    "# Using functions from the 'math' module:\n",
    "square_root = math.sqrt(16)  # Calculate the square root of 16\n",
    "print(f\"The square root of 16 is: {square_root}\")\n",
    "\n",
    "pi_value = math.pi  # Access the value of pi\n",
    "print(f\"The value of pi is: {pi_value}\")"
   ]
  },
  {
   "cell_type": "markdown",
   "metadata": {},
   "source": [
    "## Importing Specific Items from a Module: `from...import`\n",
    "\n",
    "Instead of importing the entire module, you can import specific functions, classes, or variables using the `from...import` statement. \n",
    "\n",
    "This can make your code more concise and easier to read."
   ]
  },
  {
   "cell_type": "code",
   "execution_count": 2,
   "metadata": {},
   "outputs": [
    {
     "name": "stdout",
     "output_type": "stream",
     "text": [
      "The square root of 25 is: 5.0\n",
      "The value of pi is: 3.141592653589793\n"
     ]
    }
   ],
   "source": [
    "# Example 2: Importing Specific Items\n",
    "\n",
    "from math import sqrt, pi #Importing only sqrt and pi\n",
    "\n",
    "# Now you can use 'sqrt' and 'pi' directly, without the 'math.' prefix:\n",
    "square_root = sqrt(25) #sqrt is not math.sqrt anymore\n",
    "print(f\"The square root of 25 is: {square_root}\")\n",
    "\n",
    "print(f\"The value of pi is: {pi}\")"
   ]
  },
  {
   "cell_type": "markdown",
   "metadata": {},
   "source": [
    "## Importing with Aliases: `as`\n",
    "\n",
    "You can assign a shorter or more descriptive name to a module or item using the `as` keyword. \n",
    "\n",
    "This is useful for avoiding naming conflicts or making your code more readable."
   ]
  },
  {
   "cell_type": "code",
   "execution_count": 3,
   "metadata": {},
   "outputs": [
    {
     "name": "stdout",
     "output_type": "stream",
     "text": [
      "The square root of 36 is: 6.0\n"
     ]
    }
   ],
   "source": [
    "# Example 3: Importing with Aliases\n",
    "\n",
    "import math as m #Alias = m\n",
    "\n",
    "# Now you can use 'm' as a shorthand for 'math':\n",
    "square_root = m.sqrt(36) #Use m\n",
    "print(f\"The square root of 36 is: {square_root}\")"
   ]
  },
  {
   "cell_type": "markdown",
   "metadata": {},
   "source": [
    "## Exploring Local Modules: `string`, `array`, `time`\n",
    "\n",
    "Python comes with a variety of built-in modules that provide useful functionality for common tasks. Let's explore a few of these modules:\n",
    "\n",
    "*   **`string`:** Provides constants and classes for working with strings.\n",
    "*   **`array`:** Provides an array object that is more efficient for storing numerical data than lists.\n",
    "*   **`time`:** Provides functions for working with time-related tasks (e.g., getting the current time, pausing execution).\n",
    "\n",
    "For more on python built-in libraries, see <https://docs.python.org/3/library/index.html>."
   ]
  },
  {
   "cell_type": "code",
   "execution_count": 4,
   "metadata": {},
   "outputs": [
    {
     "name": "stdout",
     "output_type": "stream",
     "text": [
      "Uppercase letters: ABCDEFGHIJKLMNOPQRSTUVWXYZ\n",
      "This is a success to be replaced.\n"
     ]
    }
   ],
   "source": [
    "# Example 4: Using the 'string' Module\n",
    "\n",
    "import string #import the string module\n",
    "\n",
    "# Accessing string constants:\n",
    "uppercase_letters = string.ascii_uppercase\n",
    "print(f\"Uppercase letters: {uppercase_letters}\") #Acess the alphabet\n",
    "\n",
    "# Using the built-in replace function.\n",
    "text = \"This is a test to be replaced.\"\n",
    "print(text.replace(\"test\", \"success\"))"
   ]
  },
  {
   "cell_type": "code",
   "execution_count": 5,
   "metadata": {},
   "outputs": [
    {
     "name": "stdout",
     "output_type": "stream",
     "text": [
      "My array: array('i', [1, 2, 3, 4, 5])\n"
     ]
    }
   ],
   "source": [
    "# Example 5: Using the 'array' Module\n",
    "\n",
    "import array #import the array module\n",
    "\n",
    "# Creating an array of integers:\n",
    "my_array = array.array('i', [1, 2, 3, 4, 5]) #Array type and values\n",
    "\n",
    "print(f\"My array: {my_array}\")"
   ]
  },
  {
   "cell_type": "code",
   "execution_count": 6,
   "metadata": {},
   "outputs": [
    {
     "name": "stdout",
     "output_type": "stream",
     "text": [
      "Current time: Tue May  6 18:40:41 2025\n",
      "Waiting for 2 seconds...\n",
      "Done waiting.\n"
     ]
    }
   ],
   "source": [
    "# Example 6: Using the 'time' Module\n",
    "\n",
    "import time #import the time module\n",
    "\n",
    "# Getting the current time:\n",
    "current_time = time.ctime()\n",
    "print(f\"Current time: {current_time}\")\n",
    "\n",
    "# Pausing execution for 2 seconds:\n",
    "print(\"Waiting for 2 seconds...\")\n",
    "time.sleep(2)\n",
    "print(\"Done waiting.\")"
   ]
  },
  {
   "cell_type": "markdown",
   "metadata": {},
   "source": [
    "## Installing External Packages with `pip`\n",
    "\n",
    "The real power of Python comes from its large ecosystem of external packages available on PyPI (Python Package Index). \n",
    "\n",
    "To install these packages, you'll use `pip`, the package installer for Python.\n",
    "\n",
    "To install a package, open your terminal or command prompt and run the following command:\n",
    "\n",
    "```bash\n",
    "pip install package_name\n",
    "```\n",
    "\n",
    "Alternativately, you can install from a jupyter notebook with same command as above with an exclamation mark `(!)`. See the next cell."
   ]
  },
  {
   "cell_type": "code",
   "execution_count": 7,
   "metadata": {
    "scrolled": true
   },
   "outputs": [
    {
     "name": "stdout",
     "output_type": "stream",
     "text": [
      "Requirement already satisfied: numpy in /Users/user1/Data/brics_astro/.venv/lib/python3.10/site-packages (2.2.5)\n",
      "\n",
      "\u001b[1m[\u001b[0m\u001b[34;49mnotice\u001b[0m\u001b[1;39;49m]\u001b[0m\u001b[39;49m A new release of pip is available: \u001b[0m\u001b[31;49m23.0.1\u001b[0m\u001b[39;49m -> \u001b[0m\u001b[32;49m25.1.1\u001b[0m\n",
      "\u001b[1m[\u001b[0m\u001b[34;49mnotice\u001b[0m\u001b[1;39;49m]\u001b[0m\u001b[39;49m To update, run: \u001b[0m\u001b[32;49mpip install --upgrade pip\u001b[0m\n"
     ]
    }
   ],
   "source": [
    "!pip install numpy"
   ]
  },
  {
   "cell_type": "markdown",
   "metadata": {},
   "source": [
    "## Using External Packages: `numpy`, `pandas`\n",
    "\n",
    "Let's explore two popular external packages:\n",
    "\n",
    "*   **`numpy`:** A fundamental package for numerical computing in Python. It provides support for arrays, matrices, and mathematical functions optimized for numerical operations.\n",
    "*   **`pandas`:** A powerful package for data analysis and manipulation. It provides data structures like DataFrames that make it easy to work with structured data.\n"
   ]
  },
  {
   "cell_type": "code",
   "execution_count": 8,
   "metadata": {},
   "outputs": [
    {
     "name": "stdout",
     "output_type": "stream",
     "text": [
      "Mean magnitude: 5.40\n",
      "Fluxes: [0.00831764 0.01202264 0.00363078 0.02754229 0.00158489]\n",
      "Total Fluxes: 0.05309824283074463\n"
     ]
    }
   ],
   "source": [
    "# Example 7: Using 'numpy' for Astronomical Calculations\n",
    "\n",
    "import numpy as np #Standard convention\n",
    "\n",
    "# Creating a numpy array of stellar magnitudes:\n",
    "magnitudes = np.array([5.2, 4.8, 6.1, 3.9, 7.0]) #Create an array\n",
    "\n",
    "# Calculating the mean magnitude:\n",
    "mean_magnitude = np.mean(magnitudes) #Calculate the mean\n",
    "\n",
    "print(f\"Mean magnitude: {mean_magnitude:.2f}\")\n",
    "\n",
    "# Converting magnitudes to flux (relative to a reference magnitude):\n",
    "fluxes = 10**(-0.4 * magnitudes) #Math operation with numpy\n",
    "print(f\"Fluxes: {fluxes}\")\n",
    "\n",
    "totalFlux = np.sum(fluxes) #Sum of all fluxes\n",
    "print(f\"Total Fluxes: {totalFlux}\")"
   ]
  },
  {
   "cell_type": "code",
   "execution_count": 13,
   "metadata": {},
   "outputs": [
    {
     "name": "stdout",
     "output_type": "stream",
     "text": [
      "  Exoplanet Name  Radius (Earth radii)  Orbital Period (days)\n",
      "0    Kepler-186f                  1.11                 129.90\n",
      "1   Kepler-1649b                  1.06                   8.68\n",
      "2    TRAPPIST-1e                  0.91                   6.10\n",
      "3      kepler111                  1.22                  23.44\n",
      "Mean radius: 1.07\n",
      "\n",
      "Exoplanets with orbital period < 10 days:\n",
      "  Exoplanet Name  Radius (Earth radii)  Orbital Period (days)\n",
      "1   Kepler-1649b                  1.06                   8.68\n",
      "2    TRAPPIST-1e                  0.91                   6.10\n"
     ]
    }
   ],
   "source": [
    "# Example 8: Using 'pandas' to Read Exoplanet Data from a CSV File\n",
    "\n",
    "import pandas as pd #Standard convention\n",
    "\n",
    "# Assume we have a CSV file named \"exoplanet_data.csv\" with the following format:\n",
    "# Name,Radius,OrbitalPeriod\n",
    "# Kepler-186f,1.11,129.9\n",
    "# Kepler-1649b,1.06,8.68\n",
    "# TRAPPIST-1e,0.91,6.10\n",
    "\n",
    "# Reading the CSV file into a pandas DataFrame:\n",
    "exoplanet_data = pd.read_csv(\"exoplanet_catalog.txt\")\n",
    "\n",
    "# Displaying the first few rows of the DataFrame:\n",
    "print(exoplanet_data.head()) #Prints first lines of the csv\n",
    "\n",
    "# Calculating the mean radius of the exoplanets:\n",
    "mean_radius = exoplanet_data[\"Radius (Earth radii)\"].mean() #Calculating the mean\n",
    "print(f\"Mean radius: {mean_radius:.2f}\")\n",
    "\n",
    "# Filtering exoplanets with an orbital period less than 10 days:\n",
    "short_period_exoplanets = exoplanet_data[exoplanet_data[\"Orbital Period (days)\"] < 10] #Condition for the data\n",
    "print(f\"\\nExoplanets with orbital period < 10 days:\\n{short_period_exoplanets}\")"
   ]
  },
  {
   "cell_type": "markdown",
   "metadata": {},
   "source": [
    "## Managing Packages: `pip list`, `pip show`, `pip uninstall`\n",
    "\n",
    "`pip` provides several commands for managing your installed packages:\n",
    "\n",
    "*   `pip list`: Lists all installed packages.\n",
    "*   `pip show package_name`: Displays information about a specific package (e.g., version, location, dependencies).\n",
    "*   `pip uninstall package_name`: Uninstalls a package.\n",
    "\n",
    "You can run these commands in your terminal or command prompt."
   ]
  },
  {
   "cell_type": "markdown",
   "metadata": {},
   "source": [
    "## Namespaces and Avoiding Naming Conflicts\n",
    "\n",
    "Modules create their own namespaces, which helps avoid naming conflicts. This means that you can have variables or functions with the same name in different modules without them interfering with each other.\n",
    "\n",
    "When you import a module, you access its contents through its namespace (e.g., `math.sqrt`). This ensures that you're using the correct `sqrt` function, even if you have another variable or function named `sqrt` in your own code.\n",
    "\n",
    "This isolation of code is helpful for creating large programs where different parts may have variables with the same name."
   ]
  },
  {
   "cell_type": "markdown",
   "metadata": {},
   "source": [
    "## Exercises\n",
    "\n",
    "1.  Circular Area Calculation: Create a module called `circle_utils.py` that contains a function to calculate the area of a circle given its radius. Import this module and use it to calculate the area of a circular telescope mirror.\n",
    "\n",
    "2.  Temperature Conversion: Use the `math` module to implement functions for converting temperatures between Celsius and Fahrenheit. Create a module called `temp_converter.py` and import those methods.\n",
    "\n",
    "3.  String Formatting: Use the `string` module to create a function that generates formatted strings for astronomical coordinates (RA and Dec) with specified precision.\n",
    "\n",
    "4.  Array Statistics: Use the `numpy` module to calculate the mean, median, and standard deviation of a dataset of stellar magnitudes.\n",
    "\n",
    "5.  Exoplanet Data Analysis: Use the `pandas` module to read an exoplanet dataset from a CSV file and perform some basic analysis (e.g., find the exoplanet with the largest radius, calculate the average orbital period)."
   ]
  },
  {
   "cell_type": "markdown",
   "metadata": {},
   "source": [
    "## Summary\n",
    "\n",
    "This notebook provided a comprehensive introduction to modules and packages in Python. You learned how to import modules, use their contents, install external packages with `pip`, and manage your package environment. By leveraging the power of modules and packages, you can significantly enhance your Python programming capabilities and tackle a wide range of astronomical challenges. Remember to explore the PyPI repository to discover new and exciting packages that can help you in your research and projects."
   ]
  },
  {
   "cell_type": "markdown",
   "metadata": {},
   "source": []
  }
 ],
 "metadata": {
  "kernelspec": {
   "display_name": "Python 3 (ipykernel)",
   "language": "python",
   "name": "python3"
  },
  "language_info": {
   "codemirror_mode": {
    "name": "ipython",
    "version": 3
   },
   "file_extension": ".py",
   "mimetype": "text/x-python",
   "name": "python",
   "nbconvert_exporter": "python",
   "pygments_lexer": "ipython3",
   "version": "3.10.11"
  }
 },
 "nbformat": 4,
 "nbformat_minor": 4
}

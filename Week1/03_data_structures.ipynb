{
 "cells": [
  {
   "cell_type": "markdown",
   "id": "0",
   "metadata": {},
   "source": [
    "# Data Structures\n",
    "\n",
    "[![Open In Colab](https://colab.research.google.com/assets/colab-badge.svg)](https://colab.research.google.com/github/Danselem/brics_astro/blob/main/Week1/03_data_structures.ipynb)\n",
    "\n",
    "\n",
    "<div style=\"text-align: center;\">\n",
    "  <img src=\"https://www.americanscientist.org/sites/americanscientist.org/files/2018-08-28-fromthestaff-frederick-aulicino-1-figcap.jpg\" width=\"800\"/>\n",
    "</div>\n",
    "\n",
    "\n",
    "\n",
    "## Overview\n",
    "\n",
    "In this notebook, we will explore the common Python data structures: Tuples, Lists, Sets, and Dictionaries. These data structures are essential tools in data manamgement and processing, enabling you to efficiently store, manage, and manipulate various types of data. By mastering these structures, you will be able to handle complex astronomy datasets with ease, paving the way for more advanced analysis and processing tasks.\n",
    "\n",
    "## Learning Objectives\n",
    "\n",
    "By the end of this lecture, you should be able to:\n",
    "\n",
    "- Understand the characteristics and use cases of Python tuples, lists, sets, and dictionaries.\n",
    "- Apply these data structures to store and manipulate astronomy data, such as coordinates, paths, and attribute information.\n",
    "- Differentiate between mutable and immutable data structures and choose the appropriate structure for different astronomy tasks.\n",
    "- Perform common operations on these data structures, including indexing, slicing, adding/removing elements, and updating values.\n",
    "- Utilize dictionaries to manage astronomy feature attributes and understand the importance of key-value pairs in astronomy data management."
   ]
  },
  {
   "cell_type": "markdown",
   "id": "1",
   "metadata": {},
   "source": [
    "## Tuples\n",
    "\n",
    "Tuples are immutable sequences, meaning that once a tuple is created, its elements cannot be changed. Tuples are useful for storing fixed collections of items.\n",
    "\n",
    "For example, a tuple can be used to store the coordinates of an astronomical source:\n",
    "\n"
   ]
  },
  {
   "cell_type": "code",
   "execution_count": 6,
   "id": "2",
   "metadata": {},
   "outputs": [],
   "source": [
    "source_coords = (\n",
    "    219.9021,\n",
    "    -60.8340\n",
    ")  # Tuple representing the equitorial coordinates (Right Ascension, Declination)  of Alpha Centauri\n"
   ]
  },
  {
   "cell_type": "markdown",
   "id": "7552df29-3541-4341-ac25-9ce42b0465e8",
   "metadata": {},
   "source": [
    "In Python, tuple indices start from 0, just like lists. You can access elements by index:"
   ]
  },
  {
   "cell_type": "code",
   "execution_count": 7,
   "id": "4",
   "metadata": {},
   "outputs": [
    {
     "name": "stdout",
     "output_type": "stream",
     "text": [
      "RA: 219.9021, Declination: -60.834\n"
     ]
    }
   ],
   "source": [
    "right_ascension = source_coords[0]\n",
    "declination = source_coords[1]\n",
    "print(f\"RA: {right_ascension}, Declination: {declination}\")"
   ]
  },
  {
   "cell_type": "markdown",
   "id": "3",
   "metadata": {},
   "source": [
    "**Common Tuple Methods**\n",
    "\n",
    "Although tuples are immutable and support fewer methods than lists, the following two methods are available:\n",
    "\n",
    "| Method        | Description                                                                 | Example                    |\n",
    "|---------------|-----------------------------------------------------------------------------|----------------------------|\n",
    "| `count(value)`| Returns the number of times `value` appears in the tuple                   | `(1, 2, 2, 3).count(2)` → `2` |\n",
    "| `index(value[, start[, stop]])` | Returns the first index of `value`; optional `start` and `stop` limits | `(1, 2, 3).index(2)` → `1`   |\n"
   ]
  },
  {
   "cell_type": "markdown",
   "id": "5",
   "metadata": {},
   "source": [
    "## Lists\n",
    "\n",
    "Lists are ordered, mutable sequences, meaning you can change, add, or remove elements after the list has been created. Lists are very flexible and can store multiple types of data, making them useful for various astronomy tasks.\n",
    "\n",
    "For example, you can store a list of coordinates representing a an astronomical object(s)."
   ]
  },
  {
   "cell_type": "code",
   "execution_count": 9,
   "id": "6",
   "metadata": {},
   "outputs": [],
   "source": [
    "star_coordinates = [\n",
    "    (219.9021, -60.8340),\n",
    "    (101.2875, -16.7161),\n",
    "    (95.9879, -52.6957), \n",
    "    (213.9153, 19.1824)]  # List of tuples representing the coordinates of bright stars."
   ]
  },
  {
   "cell_type": "markdown",
   "id": "5f79d26b-3280-4799-8649-30659b11f0f3",
   "metadata": {},
   "source": [
    "**Common List Methods**\n",
    "\n",
    "Lists in Python are **mutable**, which means you can change, add, or remove elements after the list is created. Python provides many built-in methods to manipulate lists.\n",
    "\n",
    "| Method                      | Description                                                                 | Example                                 |\n",
    "|-----------------------------|-----------------------------------------------------------------------------|-----------------------------------------|\n",
    "| `append(x)`                 | Adds an item `x` to the end of the list                                    | `[1, 2].append(3)` → `[1, 2, 3]`        |\n",
    "| `extend(iterable)`          | Extends the list by appending all elements from the iterable               | `[1, 2].extend([3, 4])` → `[1, 2, 3, 4]`|\n",
    "| `insert(i, x)`              | Inserts item `x` at index `i`                                              | `[1, 3].insert(1, 2)` → `[1, 2, 3]`     |\n",
    "| `remove(x)`                 | Removes the first occurrence of item `x`                                   | `[1, 2, 3].remove(2)` → `[1, 3]`        |\n",
    "| `pop([i])`                  | Removes and returns item at index `i` (default is the last item)           | `[1, 2, 3].pop()` → returns `3`         |\n",
    "| `clear()`                   | Removes all items from the list                                            | `[1, 2, 3].clear()` → `[]`              |\n",
    "| `index(x[, start[, end]])` | Returns index of the first occurrence of item `x`                          | `[1, 2, 3].index(2)` → `1`              |\n",
    "| `count(x)`                  | Returns the number of times `x` appears in the list                        | `[1, 2, 2, 3].count(2)` → `2`           |\n",
    "| `sort()`                    | Sorts the list in place (ascending by default)                             | `[3, 1, 2].sort()` → `[1, 2, 3]`        |\n",
    "| `reverse()`                 | Reverses the list in place                                                 | `[1, 2, 3].reverse()` → `[3, 2, 1]`     |\n",
    "| `copy()`                    | Returns a shallow copy of the list                                         | `a = [1, 2, 3]; b = a.copy()`           |\n"
   ]
  },
  {
   "cell_type": "markdown",
   "id": "7",
   "metadata": {},
   "source": [
    "You can add a new point to the path:"
   ]
  },
  {
   "cell_type": "code",
   "execution_count": 10,
   "id": "8",
   "metadata": {},
   "outputs": [
    {
     "name": "stdout",
     "output_type": "stream",
     "text": [
      "Updated coordinates: [(219.9021, -60.834), (101.2875, -16.7161), (95.9879, -52.6957), (213.9153, 19.1824), (279.2347, 38.7837)]\n"
     ]
    }
   ],
   "source": [
    "# 1. append() - Add a new star coordinate\n",
    "\n",
    "star_coordinates.append((279.2347, 38.7837))  # Adding another star coordinates to the list\n",
    "print(\"Updated coordinates:\", star_coordinates)"
   ]
  },
  {
   "cell_type": "code",
   "execution_count": 11,
   "id": "5dbc79d9-3fb5-405c-b1df-51913295b1ae",
   "metadata": {},
   "outputs": [
    {
     "name": "stdout",
     "output_type": "stream",
     "text": [
      "After extend: [(219.9021, -60.834), (101.2875, -16.7161), (95.9879, -52.6957), (213.9153, 19.1824), (279.2347, 38.7837), (192.9246, 27.5407), (233.6104, -9.1834)]\n"
     ]
    }
   ],
   "source": [
    "# 2. extend() - Add multiple new star coordinates\n",
    "star_coordinates.extend([(192.9246,\t27.5407), (233.6104, -9.1834)])\n",
    "print(\"After extend:\", star_coordinates)"
   ]
  },
  {
   "cell_type": "code",
   "execution_count": 13,
   "id": "9c8847ab-6eb5-46ff-8e61-e7692649564d",
   "metadata": {},
   "outputs": [
    {
     "name": "stdout",
     "output_type": "stream",
     "text": [
      "After insert at index 5: [(219.9021, -60.834), (101.2875, -16.7161), (95.9879, -52.6957), (213.9153, 19.1824), (279.2347, 38.7837), (250.3932, -17.7421), (250.3932, -17.7421), (192.9246, 27.5407), (233.6104, -9.1834)]\n"
     ]
    }
   ],
   "source": [
    "# 3. insert() - Insert a star at index 5\n",
    "star_coordinates.insert(5, (250.3932, -17.7421))\n",
    "print(\"After insert at index 5:\", star_coordinates)"
   ]
  },
  {
   "cell_type": "code",
   "execution_count": 14,
   "id": "1891fe35-5aa3-4d61-b147-dc1742f6a06c",
   "metadata": {},
   "outputs": [
    {
     "name": "stdout",
     "output_type": "stream",
     "text": [
      "After remove: [(219.9021, -60.834), (101.2875, -16.7161), (95.9879, -52.6957), (213.9153, 19.1824), (250.3932, -17.7421), (250.3932, -17.7421), (192.9246, 27.5407), (233.6104, -9.1834)]\n"
     ]
    }
   ],
   "source": [
    "# 4. remove() - Remove a specific star coordinate\n",
    "star_coordinates.remove((279.2347, 38.7837))\n",
    "print(\"After remove:\", star_coordinates)"
   ]
  },
  {
   "cell_type": "code",
   "execution_count": 15,
   "id": "3b024b9d-dffd-45e0-9dab-6cd059dd0c35",
   "metadata": {},
   "outputs": [
    {
     "name": "stdout",
     "output_type": "stream",
     "text": [
      "Popped element: (233.6104, -9.1834)\n",
      "After pop: [(219.9021, -60.834), (101.2875, -16.7161), (95.9879, -52.6957), (213.9153, 19.1824), (250.3932, -17.7421), (250.3932, -17.7421), (192.9246, 27.5407)]\n"
     ]
    }
   ],
   "source": [
    "# 5. pop() - Remove and return the star at index 7\n",
    "removed = star_coordinates.pop(7)\n",
    "print(\"Popped element:\", removed)\n",
    "print(\"After pop:\", star_coordinates)"
   ]
  },
  {
   "cell_type": "code",
   "execution_count": 16,
   "id": "f91c5aa9-17e8-435a-bd88-a56cc21c5cb3",
   "metadata": {},
   "outputs": [
    {
     "name": "stdout",
     "output_type": "stream",
     "text": [
      "Index of (213.9153, 19.1824): 3\n"
     ]
    }
   ],
   "source": [
    "# 6. index() - Find the index of a coordinate\n",
    "index = star_coordinates.index((213.9153, 19.1824))\n",
    "print(\"Index of (213.9153, 19.1824):\", index)"
   ]
  },
  {
   "cell_type": "code",
   "execution_count": 17,
   "id": "2211d8c3-8551-43eb-afc7-10df6c41310d",
   "metadata": {},
   "outputs": [
    {
     "name": "stdout",
     "output_type": "stream",
     "text": [
      "Count of (219.9021, -60.8340): 1\n"
     ]
    }
   ],
   "source": [
    "# 7. count() - Count how many times a coordinate appears\n",
    "count = star_coordinates.count((219.9021, -60.8340))\n",
    "print(\"Count of (219.9021, -60.8340):\", count)"
   ]
  },
  {
   "cell_type": "code",
   "execution_count": 18,
   "id": "b5d4053b-4eb3-4ff4-b8f9-074cbfacd874",
   "metadata": {},
   "outputs": [
    {
     "name": "stdout",
     "output_type": "stream",
     "text": [
      "Copy of coordinates: [(219.9021, -60.834), (101.2875, -16.7161), (95.9879, -52.6957), (213.9153, 19.1824), (250.3932, -17.7421), (250.3932, -17.7421), (192.9246, 27.5407)]\n"
     ]
    }
   ],
   "source": [
    "# 8. copy() - Make a shallow copy of the list\n",
    "copy_coords = star_coordinates.copy()\n",
    "print(\"Copy of coordinates:\", copy_coords)"
   ]
  },
  {
   "cell_type": "code",
   "execution_count": 19,
   "id": "bc62d38f-d57f-4d19-93dc-0fd35a088ade",
   "metadata": {},
   "outputs": [
    {
     "name": "stdout",
     "output_type": "stream",
     "text": [
      "After reverse: [(192.9246, 27.5407), (250.3932, -17.7421), (250.3932, -17.7421), (213.9153, 19.1824), (95.9879, -52.6957), (101.2875, -16.7161), (219.9021, -60.834)]\n"
     ]
    }
   ],
   "source": [
    "# 9. reverse() - Reverse the list in-place\n",
    "star_coordinates.reverse()\n",
    "print(\"After reverse:\", star_coordinates)"
   ]
  },
  {
   "cell_type": "code",
   "execution_count": 20,
   "id": "c3ffcf09-0ae1-4c4b-bcc5-678e0f9604fc",
   "metadata": {},
   "outputs": [
    {
     "name": "stdout",
     "output_type": "stream",
     "text": [
      "After clear: []\n"
     ]
    }
   ],
   "source": [
    "# 10. clear() - Remove all elements from the list\n",
    "star_coordinates.clear()\n",
    "print(\"After clear:\", star_coordinates)"
   ]
  },
  {
   "cell_type": "markdown",
   "id": "11",
   "metadata": {},
   "source": [
    "## Sets\n",
    "\n",
    "Sets are unordered collections of unique elements. They are useful when you need to store a collection of items and also get rid of duplicates.\n",
    "\n",
    "For example, you might want to store a set of unique coordinates of stars."
   ]
  },
  {
   "cell_type": "code",
   "execution_count": 23,
   "id": "12",
   "metadata": {},
   "outputs": [
    {
     "name": "stdout",
     "output_type": "stream",
     "text": [
      "{'Canopus', 'Sirius', 'Vega'}\n"
     ]
    }
   ],
   "source": [
    "star_names = {\"Sirius\", \"Canopus\", \"Vega\"}  # Set of stars\n",
    "print(star_names)"
   ]
  },
  {
   "cell_type": "markdown",
   "id": "13",
   "metadata": {},
   "source": [
    "**Common `Set` Methods**\n",
    "\n",
    "| Method                | Description                                                       |\n",
    "|-----------------------|-------------------------------------------------------------------|\n",
    "| `add(elem)`           | Adds an element to the set                                        |\n",
    "| `update(iterable)`    | Adds multiple elements from an iterable                           |\n",
    "| `remove(elem)`        | Removes the specified element (raises `KeyError` if not found)    |\n",
    "| `discard(elem)`       | Removes the element if present (no error if not found)            |\n",
    "| `pop()`               | Removes and returns an arbitrary element                          |\n",
    "| `clear()`             | Removes all elements from the set                                 |\n",
    "| `union(other)`        | Returns a new set with elements from both sets                    |\n",
    "| `intersection(other)` | Returns common elements from both sets                            |\n",
    "| `difference(other)`   | Returns elements in the set but not in the other                  |\n",
    "| `symmetric_difference(other)` | Returns elements in either set, but not both             |\n",
    "| `copy()`              | Returns a shallow copy of the set                                 |\n"
   ]
  },
  {
   "cell_type": "code",
   "execution_count": 24,
   "id": "14",
   "metadata": {},
   "outputs": [
    {
     "name": "stdout",
     "output_type": "stream",
     "text": [
      "Updated stars: {'Eta Carinae', 'Canopus', 'Sirius', 'Vega'}\n"
     ]
    }
   ],
   "source": [
    "# 1. Add a single star name\n",
    "star_names.add(\"Eta Carinae\")\n",
    "print(\"Updated stars:\", star_names)"
   ]
  },
  {
   "cell_type": "code",
   "execution_count": 25,
   "id": "d8b2f596-c5a6-4c97-ac77-2f889edbafbd",
   "metadata": {},
   "outputs": [
    {
     "name": "stdout",
     "output_type": "stream",
     "text": [
      "Updated stars: {'Sirius', 'Vega', 'Canopus', 'Mira Ceti', 'Beta Lyrae', 'Eta Carinae'}\n"
     ]
    }
   ],
   "source": [
    "# 2. Add multiple star names\n",
    "star_names.update([\"Mira Ceti\", \"Beta Lyrae\"])\n",
    "print(\"Updated stars:\", star_names)"
   ]
  },
  {
   "cell_type": "code",
   "execution_count": 26,
   "id": "9bce442f-870e-4b3b-80ed-45429f30238b",
   "metadata": {},
   "outputs": [
    {
     "name": "stdout",
     "output_type": "stream",
     "text": [
      "Updated stars: {'Sirius', 'Vega', 'Mira Ceti', 'Beta Lyrae', 'Eta Carinae'}\n"
     ]
    }
   ],
   "source": [
    "# 3. Remove a specific star name (raises KeyError if not present)\n",
    "star_names.remove(\"Canopus\")\n",
    "print(\"Updated stars:\", star_names)"
   ]
  },
  {
   "cell_type": "code",
   "execution_count": 27,
   "id": "9d23c3a1-d0dd-4523-bf00-b08303ad6118",
   "metadata": {},
   "outputs": [
    {
     "name": "stdout",
     "output_type": "stream",
     "text": [
      "Popped: Sirius\n"
     ]
    }
   ],
   "source": [
    "# 4. Remove an arbitrary star name\n",
    "print(\"Popped:\", star_names.pop())"
   ]
  },
  {
   "cell_type": "code",
   "execution_count": 28,
   "id": "2ac80e41-fda6-4dad-b744-cdf34d3af912",
   "metadata": {},
   "outputs": [],
   "source": [
    "# 5. Clear all star names\n",
    "star_names.clear()"
   ]
  },
  {
   "cell_type": "code",
   "execution_count": 29,
   "id": "cea67bf8-812e-45f1-8339-a38b001e6576",
   "metadata": {},
   "outputs": [
    {
     "name": "stdout",
     "output_type": "stream",
     "text": [
      "Union: {1, 2, 3, 4, 5}\n",
      "Intersection: {3}\n",
      "Difference: {1, 2}\n",
      "Symmetric difference: {1, 2, 4, 5}\n",
      "Copy of a: {1, 2, 3}\n"
     ]
    }
   ],
   "source": [
    "# Set operations\n",
    "a = {1, 2, 3}\n",
    "b = {3, 4, 5}\n",
    "\n",
    "print(\"Union:\", a.union(b))\n",
    "print(\"Intersection:\", a.intersection(b))\n",
    "print(\"Difference:\", a.difference(b))\n",
    "print(\"Symmetric difference:\", a.symmetric_difference(b))\n",
    "print(\"Copy of a:\", a.copy())"
   ]
  },
  {
   "cell_type": "markdown",
   "id": "17",
   "metadata": {},
   "source": [
    "## Dictionaries\n",
    "\n",
    "Dictionaries are collections of key-value pairs, where each key is unique. Dictionaries are extremely useful for storing data that is associated with specific identifiers, such as attribute data for geographic features.\n",
    "\n",
    "For example, you can use a dictionary to store attributes of a astronomy feature, such as a city."
   ]
  },
  {
   "cell_type": "code",
   "execution_count": 30,
   "id": "18",
   "metadata": {},
   "outputs": [],
   "source": [
    "star_attributes = {\n",
    "    \"name\": \"Alpha Centauri A\",\n",
    "    \"B_mag\": 0.4,\n",
    "    \"type\": \"Star\",\n",
    "    \"coordinates\": [219.9021, -60.8340,]\n",
    "}"
   ]
  },
  {
   "cell_type": "markdown",
   "id": "ba95f765-9c29-4015-b7e2-842e04759f4c",
   "metadata": {},
   "source": [
    "**Common `dict` methods**\n",
    "\n",
    "| Method                  | Description                                                                 |\n",
    "|--------------------------|-----------------------------------------------------------------------------|\n",
    "| `get(key[, default])`    | Returns the value for the key; returns `default` if key is not found       |\n",
    "| `keys()`                 | Returns a view of all keys in the dictionary                               |\n",
    "| `values()`               | Returns a view of all values in the dictionary                             |\n",
    "| `items()`                | Returns a view of all key-value pairs as tuples                            |\n",
    "| `update([other])`        | Updates the dictionary with key-value pairs from another dictionary        |\n",
    "| `pop(key[, default])`    | Removes specified key and returns the value; returns `default` if missing  |\n",
    "| `popitem()`              | Removes and returns the last inserted key-value pair                       |\n",
    "| `setdefault(key[, default])` | Returns the value of key if it exists; sets it if not              |\n",
    "| `clear()`                | Removes all items from the dictionary                                      |\n",
    "| `copy()`                 | Returns a shallow copy of the dictionary                                   |\n"
   ]
  },
  {
   "cell_type": "code",
   "execution_count": 31,
   "id": "ddb5e4f4-720b-46d1-98cf-d097776c9658",
   "metadata": {},
   "outputs": [
    {
     "name": "stdout",
     "output_type": "stream",
     "text": [
      "Unknown\n"
     ]
    }
   ],
   "source": [
    "# 1. Get value with default\n",
    "print(star_attributes.get(\"distance\", \"Unknown\"))  # Output: Unknown"
   ]
  },
  {
   "cell_type": "code",
   "execution_count": 32,
   "id": "cf52929e-cab5-4d83-9317-d3cd7b1c1ddd",
   "metadata": {},
   "outputs": [
    {
     "name": "stdout",
     "output_type": "stream",
     "text": [
      "dict_keys(['name', 'B_mag', 'type', 'coordinates'])\n"
     ]
    }
   ],
   "source": [
    "# 2. View keys\n",
    "print(star_attributes.keys())  # dict_keys(['name', 'B_mag', 'type', 'coordinates'])"
   ]
  },
  {
   "cell_type": "code",
   "execution_count": 33,
   "id": "0f63129a-46ef-409e-ab12-81ebebe4a7c1",
   "metadata": {},
   "outputs": [
    {
     "name": "stdout",
     "output_type": "stream",
     "text": [
      "dict_values(['Alpha Centauri A', 0.4, 'Star', [219.9021, -60.834]])\n"
     ]
    }
   ],
   "source": [
    "# 3. View values\n",
    "print(star_attributes.values())"
   ]
  },
  {
   "cell_type": "code",
   "execution_count": 34,
   "id": "56c8ad87-b0ff-4fc6-90e3-03f000032d17",
   "metadata": {},
   "outputs": [
    {
     "name": "stdout",
     "output_type": "stream",
     "text": [
      "dict_items([('name', 'Alpha Centauri A'), ('B_mag', 0.4), ('type', 'Star'), ('coordinates', [219.9021, -60.834])])\n"
     ]
    }
   ],
   "source": [
    "# 4. View items\n",
    "print(star_attributes.items())"
   ]
  },
  {
   "cell_type": "code",
   "execution_count": 35,
   "id": "0ec34170-56a2-433c-b7bf-3bb20ac2bc71",
   "metadata": {},
   "outputs": [
    {
     "name": "stdout",
     "output_type": "stream",
     "text": [
      "{'name': 'Alpha Centauri A', 'B_mag': 0.4, 'type': 'Star', 'coordinates': [219.9021, -60.834], 'distance': 4.37}\n"
     ]
    }
   ],
   "source": [
    "# 5. Update dictionary\n",
    "star_attributes.update({\"distance\": 4.37}) # 4.37 light years\n",
    "print(star_attributes)"
   ]
  },
  {
   "cell_type": "code",
   "execution_count": 36,
   "id": "b62cc02b-d087-4be0-8456-1432b260f95a",
   "metadata": {},
   "outputs": [
    {
     "name": "stdout",
     "output_type": "stream",
     "text": [
      "Removed B_mag: 0.4\n"
     ]
    }
   ],
   "source": [
    "# 6. Pop a key\n",
    "b_mag = star_attributes.pop(\"B_mag\")\n",
    "print(\"Removed B_mag:\", b_mag)"
   ]
  },
  {
   "cell_type": "code",
   "execution_count": 37,
   "id": "c1f996cd-9c60-4956-9e41-9d9212f1eb08",
   "metadata": {},
   "outputs": [
    {
     "name": "stdout",
     "output_type": "stream",
     "text": [
      "Popped last item: ('distance', 4.37)\n"
     ]
    }
   ],
   "source": [
    "# 7. Pop last item\n",
    "last_item = star_attributes.popitem()\n",
    "print(\"Popped last item:\", last_item)"
   ]
  },
  {
   "cell_type": "code",
   "execution_count": 38,
   "id": "75a880f6-74e0-4789-8391-8f56e6ceaf94",
   "metadata": {},
   "outputs": [
    {
     "name": "stdout",
     "output_type": "stream",
     "text": [
      "{'name': 'Alpha Centauri A', 'type': 'Star', 'coordinates': [219.9021, -60.834], 'luminosity': '1.519 L☉'}\n"
     ]
    }
   ],
   "source": [
    "# 8. Set default if not present\n",
    "star_attributes.setdefault(\"luminosity\", \"1.519 L☉\")\n",
    "print(star_attributes)"
   ]
  },
  {
   "cell_type": "code",
   "execution_count": 39,
   "id": "bc8b7231-480f-4d7e-8804-0fcd4862814f",
   "metadata": {},
   "outputs": [
    {
     "name": "stdout",
     "output_type": "stream",
     "text": [
      "Copy: {'name': 'Alpha Centauri A', 'type': 'Star', 'coordinates': [219.9021, -60.834], 'luminosity': '1.519 L☉'}\n"
     ]
    }
   ],
   "source": [
    "# 9. Copy dictionary\n",
    "star_copy = star_attributes.copy()\n",
    "print(\"Copy:\", star_copy)"
   ]
  },
  {
   "cell_type": "code",
   "execution_count": 40,
   "id": "8d80c6b6-d4ce-40e7-ae99-a6f2504f4017",
   "metadata": {},
   "outputs": [
    {
     "name": "stdout",
     "output_type": "stream",
     "text": [
      "Cleared: {}\n"
     ]
    }
   ],
   "source": [
    "# 10. Clear all entries\n",
    "star_attributes.clear()\n",
    "print(\"Cleared:\", star_attributes)"
   ]
  },
  {
   "cell_type": "markdown",
   "id": "23",
   "metadata": {},
   "source": [
    "## Exercises\n",
    "\n",
    "**Lists**\n",
    "\n",
    "1.  How would you make a Python list holding the names: \"Mercury\", \"Venus\", \"Earth\"?\n",
    "2.  If you have `planets = [\"Mercury\", \"Venus\", \"Earth\"]`, how do you get only \"Venus\"?\n",
    "3.  How would you add \"Mars\" to the end of the list `planets = [\"Mercury\", \"Venus\", \"Earth\"]`?\n",
    "4.  How do you find out how many items are in the list `moons = [\"Moon\", \"Phobos\", \"Deimos\"]`?\n",
    "\n",
    "**Dictionaries**\n",
    "\n",
    "5.  How would you create a Python dictionary storing the fact: the Sun's name is \"Sun\"?\n",
    "6.  If you have `star_info = {'name': \"Sirius\", 'color': \"Blue-White\"}`, how do you get only the color \"Blue-White\"?\n",
    "7.  How would you add a new fact to `star_info = {'name': \"Sirius\"}`? Add that its distance is 8.6 light-years (using the key `'distance'`).\n",
    "8.  How can you see all the keys used in the dictionary `galaxy_info = {'name': \"Andromeda\", 'type': \"Spiral\"}`?\n",
    "\n",
    "**Tuples**\n",
    "\n",
    "9.  How would you store the year (1961) and name (\"Gagarin\") together so they *cannot* be changed later?\n",
    "10. If you have `moon_info = (1969, \"Armstrong\")`, how do you get only the year 1969?\n",
    "11. Can you change the year in `moon_info = (1969, \"Armstrong\")` to 1970 after you create it? (Yes or No)\n",
    "\n",
    "**Sets**\n",
    "\n",
    "12. How would you create a Python set containing these gas planets: \"Jupiter\", \"Saturn\", \"Uranus\", \"Neptune\"?\n",
    "13. If you have `gas_giants = {\"Jupiter\", \"Saturn\", \"Uranus\", \"Neptune\"}`, how would you check if \"Earth\" is in this set?\n",
    "14. If you add \"Jupiter\" again to the set `gas_giants = {\"Jupiter\", \"Saturn\"}`, what will the set look like afterwards?\n",
    "15. How would you use a set to get only the unique names from this list: `observed = [\"Moon\", \"Mars\", \"Moon\", \"Jupiter\", \"Mars\"]`?"
   ]
  },
  {
   "cell_type": "code",
   "execution_count": null,
   "id": "24",
   "metadata": {},
   "outputs": [],
   "source": []
  },
  {
   "cell_type": "markdown",
   "id": "25",
   "metadata": {},
   "source": [
    "## Summary\n",
    "\n",
    "Understanding and utilizing Python's data structures such as tuples, lists, sets, and dictionaries are fundamental skills in astronomy programming. These structures provide the flexibility and functionality required to manage and manipulate spatial data effectively.\n",
    "\n",
    "Continue exploring these data structures by applying them to your astronomy projects and analyses.\n",
    "\n",
    "**Additional Resources**\n",
    "\n",
    "For more on python data structures, see <https://docs.python.org/3/tutorial/datastructures.html>.\n",
    "\n"
   ]
  },
  {
   "cell_type": "code",
   "execution_count": null,
   "id": "d40bf978-e55d-4795-b2d9-3fb7eed03dea",
   "metadata": {},
   "outputs": [],
   "source": []
  }
 ],
 "metadata": {
  "kernelspec": {
   "display_name": "Python 3 (ipykernel)",
   "language": "python",
   "name": "python3"
  },
  "language_info": {
   "codemirror_mode": {
    "name": "ipython",
    "version": 3
   },
   "file_extension": ".py",
   "mimetype": "text/x-python",
   "name": "python",
   "nbconvert_exporter": "python",
   "pygments_lexer": "ipython3",
   "version": "3.10.11"
  }
 },
 "nbformat": 4,
 "nbformat_minor": 5
}

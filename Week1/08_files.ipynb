{
 "cells": [
  {
   "cell_type": "markdown",
   "metadata": {},
   "source": [
    "# Files and Error Handling in Python\n",
    "\n",
    "[![Open In Colab](https://colab.research.google.com/assets/colab-badge.svg)](https://colab.research.google.com/github/Danselem/brics_astro/blob/main/Week1/08_files.ipynb)\n",
    "\n",
    "\n",
    "\n",
    "<div style=\"text-align: center;\">\n",
    "  <img src=\"https://telescope.live/sites/default/files/styles/fb_1200x630/public/2022-04/279411387_10227604700805114_8352244699910839138_n.jpg?itok=f7WRPoHe\" width=\"800\"/>\n",
    "</div>\n",
    "\n",
    "As astronomers, we deal with vast amounts of data, from telescope images to catalogs of millions of stars. This data is often stored in files, and it's essential to know how to read, write, and manipulate these files programmatically. Furthermore, errors are inevitable when working with data and code, and understanding how to handle them gracefully is crucial for writing robust and reliable astronomical software.\n",
    "\n",
    "This notebook will guide you through the basics of file input/output (I/O) and error handling in Python, equipping you with the skills to process data, manage potential problems, and build more resilient astronomical tools.\n",
    "\n",
    "**Learning Objectives:**\n",
    "\n",
    "*   Understand the concept of file I/O (input/output).\n",
    "*   Open files for reading, writing, and appending.\n",
    "*   Read data from files line by line or as a whole.\n",
    "*   Write data to files.\n",
    "*   Handle common file-related errors.\n",
    "*   Understand the concept of exceptions.\n",
    "*   Use `try...except` blocks to handle exceptions gracefully.\n",
    "*   Implement `finally` blocks for cleanup operations.\n",
    "*   Raise custom exceptions to signal specific error conditions.\n",
    "\n",
    "**Key Terms:**\n",
    "\n",
    "*   **File I/O:** The process of reading data from and writing data to files.\n",
    "*   **File Handle:** A reference to an open file, allowing you to perform operations on it.\n",
    "*   **Exception:** An event that disrupts the normal flow of a program's execution. It represents an error condition.\n",
    "*   **Error Handling:** The process of detecting and responding to exceptions to prevent program crashes and ensure data integrity.\n",
    "*   `try...except`: A block of code that allows you to attempt an operation that might raise an exception and handle the exception if it occurs.\n",
    "*   `finally`: A block of code that is always executed, regardless of whether an exception was raised or not. It is used for cleanup operations (e.g., closing files).\n",
    "*   `with open():` A recommended way to open files. It assures the file is closed."
   ]
  },
  {
   "cell_type": "markdown",
   "metadata": {},
   "source": [
    "## Opening Files in Python\n",
    "\n",
    "In Python, working with files is a fundamental task. Before you can read from or write to a file, you must first *open* it. Opening a file creates a connection between your Python program and the file on your computer's file system.\n",
    "\n",
    "**The `open()` Function:**\n",
    "\n",
    "The key to opening files is the `open()` function. It takes two main arguments:\n",
    "\n",
    "1.  **`filename`:** The path to the file you want to open. This can be a relative path (relative to the current working directory) or an absolute path. For example:\n",
    "\n",
    "    *   `\"my_data.txt\"` (relative path: in the same folder as your Python script)\n",
    "    *   `\"data/star_catalog.csv\"` (relative path: in a subfolder named \"data\")\n",
    "    *   `\"/home/user/documents/observational_data.fits\"` (absolute path: specifies the exact location on the system; *nix based systems example*)\n",
    "    *   `\"C:\\\\Users\\\\MyUser\\\\Documents\\\\data.txt\"` (absolute path on Windows).\n",
    "\n",
    "2.  **`mode`:** A string that specifies how you want to use the file. The most common modes are:\n",
    "\n",
    "    *   `\"r\"`: **Read mode**. Opens the file for reading. This is the default mode if you don't specify one. You can only read data from the file. If the file doesn't exist, a `FileNotFoundError` will be raised.\n",
    "    *   `\"w\"`: **Write mode**. Opens the file for writing. If the file exists, its contents will be *overwritten* (all existing data will be lost!). If the file doesn't exist, a new file will be created. Use this mode with caution.\n",
    "    *   `\"a\"`: **Append mode**. Opens the file for writing. If the file exists, new data will be added to the *end* of the file. If the file doesn't exist, a new file will be created. This mode is useful for adding data to an existing file without erasing its contents.\n",
    "    *   `\"x\"`: **Exclusive Creation mode**. Creates a new file for writing. If the file already exists, it will raise a `FileExistsError`.\n",
    "    *   `\"b\"`: **Binary mode**. Opens the file in binary mode.\n",
    "    *   `\"t\"`: **Text mode**. Opens the file in text mode (default).\n",
    "    *   `\"+\"`: **Updating mode**. Opens the file for updating (reading and writing).\n",
    "\n",
    "**Example:**\n",
    "\n",
    "```python\n",
    "try:\n",
    "    file_handle = open(\"star_catalog.txt\", \"r\") # Open the file in read mode\n",
    "\n",
    "    # Perform operations on the file (e.g., read data)\n",
    "    # ...\n",
    "\n",
    "    file_handle.close()  # Important: Close the file when you're finished!\n",
    "\n",
    "except FileNotFoundError:\n",
    "    print(\"Error: The file 'star_catalog.txt' was not found.\")"
   ]
  },
  {
   "cell_type": "code",
   "execution_count": 4,
   "metadata": {},
   "outputs": [
    {
     "name": "stdout",
     "output_type": "stream",
     "text": [
      "Error: File 'star_catalog.txt' not found.\n"
     ]
    }
   ],
   "source": [
    "# Example 1: Opening and Closing Files\n",
    "\n",
    "# To work with a file, you first need to open it using the `open()` function. This creates a file handle,\n",
    "# which is a reference to the open file.\n",
    "\n",
    "# Opening a file for reading:\n",
    "try:\n",
    "    file_handle = open(\"star_catalog.txt\", \"r\")  # \"r\" mode opens the file for reading (default)\n",
    "    print(\"File opened successfully!\")\n",
    "\n",
    "    # Perform operations on the file here (e.g., read data)\n",
    "\n",
    "    file_handle.close()  # Always close the file when you're finished with it. This releases system resources.\n",
    "    print(\"File closed.\")\n",
    "\n",
    "except FileNotFoundError:\n",
    "    print(\"Error: File 'star_catalog.txt' not found.\")"
   ]
  },
  {
   "cell_type": "markdown",
   "metadata": {},
   "source": [
    "Alternative (and recommended) approach using `with open()`."
   ]
  },
  {
   "cell_type": "code",
   "execution_count": 5,
   "metadata": {},
   "outputs": [
    {
     "name": "stdout",
     "output_type": "stream",
     "text": [
      "Error: File 'star_catalog.txt' not found (using 'with').\n"
     ]
    }
   ],
   "source": [
    "#The with statement automatically closes the file for you, even if errors are encountered, making it safer and more convenient.\n",
    "try:\n",
    "    with open(\"star_catalog.txt\", \"r\") as file_handle:\n",
    "        print(\"File opened successfully (using 'with')!\")\n",
    "        # The file is automatically closed when the 'with' block ends.\n",
    "\n",
    "except FileNotFoundError:\n",
    "    print(\"Error: File 'star_catalog.txt' not found (using 'with').\")"
   ]
  },
  {
   "cell_type": "markdown",
   "metadata": {},
   "source": [
    "There is no `star_catalog.txt` hence why the code prints `Error: File 'star_catalog.txt' not found`.\n",
    "\n",
    "To create the file and write into the file, run the next cell:"
   ]
  },
  {
   "cell_type": "code",
   "execution_count": 6,
   "metadata": {},
   "outputs": [
    {
     "name": "stdout",
     "output_type": "stream",
     "text": [
      "File not found. Creating 'star_catalog.txt'...\n",
      "File created and data written.\n"
     ]
    }
   ],
   "source": [
    "try:\n",
    "    file_handle = open(\"star_catalog.txt\", \"r\")  # Try to open for reading\n",
    "    print(\"File opened successfully!\")\n",
    "\n",
    "    # Read contents (optional)\n",
    "    contents = file_handle.read()\n",
    "    print(\"Contents:\\n\", contents)\n",
    "\n",
    "    file_handle.close()\n",
    "    print(\"File closed.\")\n",
    "\n",
    "except FileNotFoundError:\n",
    "    print(\"File not found. Creating 'star_catalog.txt'...\")\n",
    "    \n",
    "    # Create the file and write some info\n",
    "    file_handle = open(\"star_catalog.txt\", \"w\")  # \"w\" mode creates the file if it doesn't exist\n",
    "    file_handle.write(\"Star Name, Spectral Type, Magnitude\\n\")\n",
    "    file_handle.write(\"Alpha Centauri A, G2V, 0.01\\n\")\n",
    "    file_handle.write(\"Sirius A, A1V, -1.46\\n\")\n",
    "    file_handle.close()\n",
    "    print(\"File created and data written.\")\n"
   ]
  },
  {
   "cell_type": "markdown",
   "metadata": {},
   "source": [
    "## Reading Data from Files\n",
    "\n",
    "Once a file is open for reading, you can use various methods to retrieve the data:\n",
    "\n",
    "*   `file_handle.read()`: Reads the entire file content as a single string.\n",
    "*   `file_handle.readline()`: Reads a single line from the file, including the newline character (`\\n`).\n",
    "*   `file_handle.readlines()`: Reads all lines from the file and returns them as a list of strings.\n",
    "\n",
    "For large files, it's more efficient to read the file line by line to avoid loading the entire content into memory at once."
   ]
  },
  {
   "cell_type": "code",
   "execution_count": 8,
   "metadata": {},
   "outputs": [
    {
     "name": "stdout",
     "output_type": "stream",
     "text": [
      "Star: Alpha Centauri A, Type: G2V, Magnitude: 0.01\n",
      "Star: Sirius A, Type: A1V, Magnitude: -1.46\n"
     ]
    }
   ],
   "source": [
    "# Example 2: Reading Star Catalog from a File\n",
    "\n",
    "\n",
    "try:\n",
    "    with open(\"star_catalog.txt\", \"r\") as file_handle:\n",
    "        header = file_handle.readline().strip()  # Read and skip the header\n",
    "\n",
    "        for line in file_handle:\n",
    "            line = line.strip()\n",
    "            if line:\n",
    "                star_data = line.split(\",\")\n",
    "                if len(star_data) == 3:\n",
    "                    star_name = star_data[0].strip()\n",
    "                    spectral_type = star_data[1].strip()\n",
    "                    try:\n",
    "                        magnitude = float(star_data[2])\n",
    "                        print(f\"Star: {star_name}, Type: {spectral_type}, Magnitude: {magnitude:.2f}\")\n",
    "                    except ValueError:\n",
    "                        print(f\"Error: Invalid magnitude value for star {star_name}\")\n",
    "                else:\n",
    "                    print(f\"Error: Invalid format in line: {line}\")\n",
    "except FileNotFoundError:\n",
    "    print(\"Error: File 'star_catalog.txt' not found.\")\n"
   ]
  },
  {
   "cell_type": "markdown",
   "metadata": {},
   "source": [
    "## Writing Data to Files\n",
    "\n",
    "To write data to a file, you need to open it in either `\"w\"` (write) or `\"a\"` (append) mode.\n",
    "\n",
    "*   `file_handle.write(string)`: Writes the given string to the file. Note that `write()` does not automatically add a newline character; you must include it explicitly (`\\n`).\n",
    "*   `file_handle.writelines(list_of_strings)`: Writes a list of strings to the file."
   ]
  },
  {
   "cell_type": "code",
   "execution_count": 9,
   "metadata": {},
   "outputs": [
    {
     "name": "stdout",
     "output_type": "stream",
     "text": [
      "Exoplanet data written to 'exoplanet_catalog.txt'.\n",
      "Appended succesfully\n"
     ]
    }
   ],
   "source": [
    "# Example 3: Writing Exoplanet Data to a File\n",
    "\n",
    "# Let's create a file to store exoplanet data:\n",
    "# Exoplanet Name, Radius (Earth radii), Orbital Period (days)\n",
    "\n",
    "exoplanets = [\n",
    "    (\"Kepler-186f\", 1.11, 129.9),\n",
    "    (\"Kepler-1649b\", 1.06, 8.68),\n",
    "    (\"TRAPPIST-1e\", 0.91, 6.10),\n",
    "]\n",
    "\n",
    "try:\n",
    "    with open(\"exoplanet_catalog.txt\", \"w\") as file_handle:\n",
    "        file_handle.write(\"Exoplanet Name,Radius (Earth radii),Orbital Period (days)\\n\")  # Write the header\n",
    "\n",
    "        for name, radius, period in exoplanets:\n",
    "            line = f\"{name},{radius:.2f},{period:.2f}\\n\"  # Format the data\n",
    "            file_handle.write(line)  # Write the line to the file\n",
    "\n",
    "    print(\"Exoplanet data written to 'exoplanet_catalog.txt'.\")\n",
    "\n",
    "except IOError as e:\n",
    "    print(f\"Error writing to file: {e}\")\n",
    "\n",
    "#Appending:\n",
    "try:\n",
    "    with open(\"exoplanet_catalog.txt\", \"a\") as file_handle:\n",
    "        file_handle.write(\"kepler111,1.22,23.44\\n\")\n",
    "\n",
    "    print(\"Appended succesfully\")\n",
    "\n",
    "except FileNotFoundError:\n",
    "    print(\"Error: File 'exoplanet_catalog.txt' not found.\")\n",
    "\n",
    "except IOError as e:\n",
    "    print(f\"Error writing to file: {e}\")"
   ]
  },
  {
   "cell_type": "markdown",
   "metadata": {},
   "source": [
    "## Error Handling: The `try...except` Block\n",
    "\n",
    "Errors are inevitable when working with files and data. Python's `try...except` block allows you to handle exceptions gracefully, preventing your program from crashing.\n",
    "\n",
    "The basic syntax is:\n",
    "\n",
    "```python\n",
    "# try:\n",
    "#     # Code that might raise an exception\n",
    "# except ExceptionType1:\n",
    "#     # Code to handle ExceptionType1\n",
    "# except ExceptionType2:\n",
    "#     # Code to handle ExceptionType2\n",
    "# ...\n",
    "# else:\n",
    "#     # Code that executes if no exception was raised\n",
    "# finally:\n",
    "#     # Code that always executes (cleanup operations)\n",
    "```\n",
    "\n",
    "*   `try`: The block of code that might raise an exception.\n",
    "*   `except`: One or more blocks of code that handle specific exception types. If an exception occurs within the try block, Python searches for a matching except block.\n",
    "*   `else`: An optional block of code that is executed only if no exception was raised in the try block.\n",
    "*   `finally`: An optional block of code that is always executed, regardless of whether an exception was raised or not. This is typically used for cleanup operations (e.g., closing files, releasing resources)."
   ]
  },
  {
   "cell_type": "code",
   "execution_count": 10,
   "metadata": {},
   "outputs": [
    {
     "name": "stdout",
     "output_type": "stream",
     "text": [
      "Error: The specified file was not found.\n",
      "Attempted to open the file.\n"
     ]
    }
   ],
   "source": [
    "# Example 4: Handling FileNotFoundError\n",
    "\n",
    "try:\n",
    "    with open(\"nonexistent_file.txt\", \"r\") as file_handle:\n",
    "        # This code will not be executed because the file doesn't exist\n",
    "        content = file_handle.read()\n",
    "        print(content)\n",
    "\n",
    "except FileNotFoundError:\n",
    "    print(\"Error: The specified file was not found.\")\n",
    "\n",
    "except Exception as e:\n",
    "    print(f\"An unexpected error occurred: {e}\")\n",
    "\n",
    "finally:\n",
    "    print(\"Attempted to open the file.\")  # This will always be printed"
   ]
  },
  {
   "cell_type": "markdown",
   "metadata": {},
   "source": [
    "## Handling Different Exception Types in Python: \n",
    "\n",
    "When working with files, data, or any external resource, errors are unavoidable. Python's exception handling mechanism allows you to gracefully manage these errors, preventing your program from crashing and providing informative feedback to the user. A key part of effective error handling is understanding and handling different types of exceptions.\n",
    "\n",
    "**Understanding Exception Types:**\n",
    "\n",
    "Exceptions are events that disrupt the normal flow of program execution. Each exception has a specific *type*, indicating the nature of the error. Recognizing common exception types is crucial for writing targeted error handling code. Here are some relevant exception types:\n",
    "\n",
    "*   **`FileNotFoundError`:** Raised when you try to open a file that doesn't exist.\n",
    "  \n",
    "*   **`IOError`:** A general exception for input/output operations. Catches most file operations.\n",
    "\n",
    "  \n",
    "*   **`ValueError`:** Raised when a function receives an argument of the correct type but an inappropriate value (e.g., trying to convert the string \"abc\" to an integer).\n",
    "\n",
    "  \n",
    "*   **`TypeError`:** Raised when an operation or function is applied to an object of an inappropriate type (e.g., trying to add a string and an integer).\n",
    "\n",
    "  \n",
    "*   **`IndexError`:** Raised when trying to access an index in a list that is out of bounds.\n",
    "\n",
    "\n",
    "*   **`KeyError`:** Raised when trying to access a key in a dictionary that doesn't exist.\n",
    "\n",
    "  \n",
    "*   **`ZeroDivisionError`:** Raised when dividing by zero.\n",
    "\n",
    "  \n",
    "\n",
    "**The `try...except` Block with Specific Exception Types:**\n",
    "\n",
    "The `try...except` block allows you to attempt an operation that might raise an exception and handle the exception if it occurs. You can specify multiple `except` blocks to handle different exception types differently.\n",
    "\n",
    "```python\n",
    "try:\n",
    "    # Code that might raise an exception\n",
    "    result = 10 / 0  # This will raise a ZeroDivisionError\n",
    "except ZeroDivisionError:\n",
    "    # Code to handle the ZeroDivisionError\n",
    "    print(\"Error: Division by zero is not allowed.\")\n",
    "except TypeError:\n",
    "    print(\"Type Error\")\n",
    "except ValueError:\n",
    "    print(\"Value error\")\n",
    "except Exception as e: #Generic Exception\n",
    "    # Code to handle any other exception\n",
    "    print(f\"An unexpected error occurred: {e}\")"
   ]
  },
  {
   "cell_type": "code",
   "execution_count": 11,
   "metadata": {},
   "outputs": [
    {
     "name": "stdout",
     "output_type": "stream",
     "text": [
      "Error: Invalid format in RA or Dec value.\n"
     ]
    }
   ],
   "source": [
    "# Example 5: Handling Different Exception Types - RA/Dec Conversion\n",
    "\n",
    "def convert_ra_dec(ra_str, dec_str):\n",
    "    \"\"\"Converts right ascension (RA) and declination (Dec) strings to floats.\n",
    "\n",
    "    Args:\n",
    "        ra_str (str): Right ascension string (e.g., \"12h34m56.7s\").\n",
    "        dec_str (str): Declination string (e.g., \"+34d56m7.8s\").\n",
    "\n",
    "    Returns:\n",
    "        tuple: A tuple containing the RA and Dec as floats in degrees, or None if an error occurs.\n",
    "    \"\"\"\n",
    "    try:\n",
    "        ra = float(ra_str) #Dummy value to simulate an error\n",
    "        dec = float(dec_str) #Dummy value to simulate an error\n",
    "\n",
    "        return ra, dec\n",
    "\n",
    "    except ValueError:\n",
    "        print(\"Error: Invalid format in RA or Dec value.\")\n",
    "        return None\n",
    "\n",
    "    except TypeError:\n",
    "        print(\"Error: RA and Dec must be strings\")\n",
    "        return None\n",
    "\n",
    "# Test cases\n",
    "star_ra = \"Invalid RA\"\n",
    "star_dec = \"+34d56m7.8s\"\n",
    "\n",
    "coords = convert_ra_dec(star_ra, star_dec)\n",
    "\n",
    "if coords:\n",
    "    ra, dec = coords\n",
    "    print(f\"Converted RA: {ra:.4f}, Dec: {dec:.4f}\")"
   ]
  },
  {
   "cell_type": "markdown",
   "metadata": {},
   "source": [
    "## The `finally` Block\n",
    "\n",
    "The `finally` block is an optional part of the `try...except` structure. \n",
    "\n",
    "The code inside the `finally` block is *always* executed, regardless of whether an exception was raised or not. \n",
    "\n",
    "This is extremely useful for cleanup operations, such as closing files, releasing resources, or ensuring that certain actions are always performed."
   ]
  },
  {
   "cell_type": "code",
   "execution_count": 13,
   "metadata": {},
   "outputs": [
    {
     "name": "stdout",
     "output_type": "stream",
     "text": [
      "Exoplanet Name,Radius (Earth radii),Orbital Period (days)\n",
      "Kepler-186f,1.11,129.90\n",
      "Kepler-1649b,1.06,8.68\n",
      "TRAPPIST-1e,0.91,6.10\n",
      "kepler111,1.22,23.44\n",
      "\n",
      "File closed (in 'finally' block).\n"
     ]
    }
   ],
   "source": [
    "# Example 6: Using `finally` to Ensure File Closure\n",
    "\n",
    "file_handle = None  # Initialize the file handle to None\n",
    "\n",
    "try:\n",
    "    file_handle = open(\"exoplanet_catalog.txt\", \"r\")\n",
    "    # Perform operations on the file\n",
    "    content = file_handle.read()\n",
    "    print(content)\n",
    "except FileNotFoundError:\n",
    "    print(\"Error: File 'messier_objects.txt' not found.\")\n",
    "except Exception as e:\n",
    "    print(f\"An unexpected error occurred: {e}\")\n",
    "finally:\n",
    "    if file_handle:  # Check if the file was opened\n",
    "        file_handle.close()\n",
    "        print(\"File closed (in 'finally' block).\")\n",
    "    else:\n",
    "        print(\"File was not opened.\")"
   ]
  },
  {
   "cell_type": "markdown",
   "metadata": {},
   "source": [
    "## Raising Custom Exceptions\n",
    "\n",
    "Sometimes, you need to signal specific error conditions that are not covered by standard Python exceptions. \n",
    "\n",
    "You can raise custom exceptions by creating new exception classes (inheriting from the base `Exception` class) and using the `raise` statement.\n",
    "\n",
    "This allows you to provide more informative error messages and handle specific situations more effectively."
   ]
  },
  {
   "cell_type": "code",
   "execution_count": 14,
   "metadata": {},
   "outputs": [
    {
     "name": "stdout",
     "output_type": "stream",
     "text": [
      "Error: Star mass must be between 0.08 and 100 solar masses.\n"
     ]
    }
   ],
   "source": [
    "# Example 7: Raising a Custom Exception - MassValue Error\n",
    "\n",
    "class InvalidMassError(Exception):\n",
    "    \"\"\"Custom exception raised when a star's mass is invalid.\"\"\"\n",
    "    pass\n",
    "\n",
    "def validate_star_mass(mass):\n",
    "    \"\"\"Validates that a star's mass is within a reasonable range.\n",
    "\n",
    "    Args:\n",
    "        mass (float): The mass of the star in solar masses.\n",
    "\n",
    "    Raises:\n",
    "        InvalidMassError: If the mass is outside the valid range (0.08 to 100 solar masses).\n",
    "\n",
    "    Returns:\n",
    "        float: The valid mass.\n",
    "    \"\"\"\n",
    "    if not 0.08 <= mass <= 100:\n",
    "        raise InvalidMassError(\"Error: Star mass must be between 0.08 and 100 solar masses.\")\n",
    "    return mass\n",
    "\n",
    "# Usage\n",
    "try:\n",
    "    star_mass = 200.0\n",
    "    validated_mass = validate_star_mass(star_mass)\n",
    "    print(f\"Valid star mass: {validated_mass} solar masses\")\n",
    "except InvalidMassError as e:\n",
    "    print(e)"
   ]
  },
  {
   "cell_type": "markdown",
   "metadata": {},
   "source": [
    "## Exercises\n",
    "\n",
    "1.  **Data Validation:** Write a program that reads star data (name, RA, Dec, magnitude) from a file and validates that the RA and Dec values are within a reasonable range (0-360 for RA, -90 to +90 for Dec). Raise a custom exception if the values are invalid.\n",
    "\n",
    "2.  **File Conversion:** Write a program that reads star data from a file in one format (e.g., CSV) and converts it to another format (e.g., a fixed-width format). Handle potential errors such as missing data or invalid data types.\n",
    "\n",
    "3.  **Log File Analysis:** Write a program that reads a telescope log file and extracts information about observing sessions (start time, end time, target object). Handle potential errors in the log file format."
   ]
  },
  {
   "cell_type": "markdown",
   "metadata": {},
   "source": [
    "## Summary\n",
    "\n",
    "This notebook covered the essentials of file and error handling in Python, providing you with the tools to read, write, and process data from files and manage potential errors gracefully. By mastering these concepts, you can write more reliable code, capable of handling real-world data and unexpected situations. \n",
    "\n",
    "## Additional Resources\n",
    "\n",
    "On working with files, see <https://realpython.com/working-with-files-in-python/>.\n",
    "\n",
    "For error handling and exceptions, see <https://docs.python.org/3/tutorial/errors.html>, <https://realpython.com/python-exceptions/>."
   ]
  },
  {
   "cell_type": "code",
   "execution_count": null,
   "metadata": {},
   "outputs": [],
   "source": []
  }
 ],
 "metadata": {
  "kernelspec": {
   "display_name": "Python 3 (ipykernel)",
   "language": "python",
   "name": "python3"
  },
  "language_info": {
   "codemirror_mode": {
    "name": "ipython",
    "version": 3
   },
   "file_extension": ".py",
   "mimetype": "text/x-python",
   "name": "python",
   "nbconvert_exporter": "python",
   "pygments_lexer": "ipython3",
   "version": "3.10.11"
  }
 },
 "nbformat": 4,
 "nbformat_minor": 4
}
